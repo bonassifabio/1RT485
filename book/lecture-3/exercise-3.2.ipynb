{
 "cells": [
  {
   "cell_type": "markdown",
   "metadata": {},
   "source": [
    "(ref:lec3:ex2)=\n",
    "# Exercise 3.2"
   ]
  },
  {
   "cell_type": "markdown",
   "metadata": {},
   "source": [
    "\n",
    "Sketch the Bode plot of the following systems:\n",
    "\n",
    "1. $G(s) = \\frac{100(s + 8)}{s^2(s + 4)(s + 5)(s + 10)}$\n",
    "\n",
    "2. $G(s) = \\frac{0.4}{(s + 0.1)(s^2 + 0.4s + 4)(s + 0.5)}$"
   ]
  },
  {
   "cell_type": "markdown",
   "metadata": {},
   "source": [
    "---"
   ]
  },
  {
   "cell_type": "markdown",
   "metadata": {},
   "source": [
    "## Solution"
   ]
  },
  {
   "cell_type": "markdown",
   "metadata": {},
   "source": [
    "### System 1"
   ]
  },
  {
   "cell_type": "markdown",
   "metadata": {},
   "source": [
    "We first need to compute the poles and zeros of the system:\n",
    "\n",
    "**Poles**\n",
    "- $s = 0$ (twice)\n",
    "- $s = -4$\n",
    "- $s = -5$\n",
    "- $s = -10$\n",
    "\n",
    "**Zeros**\n",
    "- $s = -8$\n",
    "\n",
    "Then, we sort poles and zeros by increasing frequencies, and we apply the rules to sketch asymptotic bode diagrams\n",
    "\n",
    "| Frequency         |       What happens to the modulus plot             |       What happens to the phase plot       |   \n",
    "|-------------------|----------------------------------------------------|--------------------------------------------|\n",
    "| $0$ rad/s  (pole) | The initial slope is $-2$ ($-40 \\text{ dB/dec}$)   | The initial phase is $-180^\\circ$          |\n",
    "| $4$ rad/s  (pole) | The slope decreases from $-2$ to $-3$              | The phase decreases by $90^\\circ$          |\n",
    "| $5$ rad/s  (pole) | The slope decreases from $-3$ to $-4$              | The phase decreases by $90^\\circ$          |\n",
    "| $8$ rad/s  (zero) | The slope increases from $-4$ to $-3$              | The phase increases by $90^\\circ$          |\n",
    "| $10$ rad/s  (pole)| The slope decreases from $-3$ to $-4$              | The phase decreases by $90^\\circ$          |\n",
    "\n",
    "\n",
    "\n"
   ]
  },
  {
   "cell_type": "markdown",
   "metadata": {},
   "source": [
    "Because of the poles in the origin, we can't compute the static gain which would be needed to start sketching the modulus at low frequencies.\n",
    "\n",
    "The solution here is to evaluate $\\lvert G(i \\omega) \\lvert_{\\text{dB}}$ at a sufficiently small frequency $\\omega$. A **general guideline** is to evaluate such a modulus **one or two decades before the slowest pole/zero** (save for the ones in $s=0$, of course).\n",
    "\n",
    "In our case, the slowest pole (save for $s=0$) is in $4$ rad/s, hence we compute $\\lvert G(i 0.04) \\lvert_{\\text{dB}}$.\n",
    "\n",
    "$$\n",
    "\\lvert G(i 0.04) \\lvert = \\frac{100 \\cdot \\lvert i 0.04 + 8 \\lvert}{\\lvert i 0.04 \\lvert^2 \\cdot \\lvert i 0.04 + 4 \\lvert \\cdot \\lvert i 0.04 + 5 \\lvert \\cdot \\lvert i 0.04 + 10 \\lvert} \n",
    "$$"
   ]
  },
  {
   "cell_type": "markdown",
   "metadata": {},
   "source": [
    "While it might seem a lot of work to compute this modulus we can note that, thanks our choice $\\omega = 0.04$, within every modulus operation the imaginary part is always negligible compared to the real part (save for the poles in $s=0$, where of course the real part is null). As an example, $\\lvert i 0.04 + 5 \\lvert \\simeq \\lvert 5 \\lvert = 5$. The computation therefore simplifies to\n",
    "\n",
    "$\\lvert G(i 0.04) \\lvert \\simeq \\frac{100 \\cdot 8}{0.04^2 \\cdot 4 \\cdot 5 \\cdot 10} = 2500 \\to 68 \\text{dB}$"
   ]
  },
  {
   "cell_type": "markdown",
   "metadata": {},
   "source": [
    "We can now sketch the Bode plot 🥳  Reported below is the solution, sketched with the script [asymptotic_bode](https://raw.githubusercontent.com/bonassifabio/1RT485/refs/heads/main/)."
   ]
  },
  {
   "cell_type": "code",
   "execution_count": null,
   "metadata": {},
   "outputs": [],
   "source": [
    "% Check if the `asymptotic_bode` function is available, otherwise download it\n",
    "if ~exist('asymptotic_bode')\n",
    "    urlwrite('https://raw.githubusercontent.com/bonassifabio/1RT485/refs/heads/main/book/res/matlab/asymptotic_bode.m', 'asymptotic_bode.m');\n",
    "end"
   ]
  },
  {
   "cell_type": "code",
   "execution_count": 2,
   "metadata": {},
   "outputs": [
    {
     "name": "stderr",
     "output_type": "stream",
     "text": [
      "Unrecognized function or variable 'asymptotic_bode'."
     ]
    }
   ],
   "source": [
    "% Define the transfer function\n",
    "s = tf('s');\n",
    "G = 100 * (s + 8) / (s^2 * (s + 4) * (s + 5) * (s + 10));\n",
    "asymptotic_bode(G)"
   ]
  },
  {
   "cell_type": "markdown",
   "metadata": {},
   "source": [
    "### System 2"
   ]
  },
  {
   "cell_type": "markdown",
   "metadata": {},
   "source": [
    "We start by computing the poles, zeros, and static gain of the system $G(s) = \\frac{0.4}{(s + 0.1)(s^2 + 0.4s + 4)(s + 0.5)}$\n",
    "\n",
    "**Poles**\n",
    "- $s = -0.1$\n",
    "- $s = -0.5$\n",
    "- $s \\simeq -0.2 \\pm i 2$ (complex conjugate poles with natural frequency $\\omega_n = \\sqrt{0.2^2 + 2^2} \\simeq 2$ rad/s)\n",
    "\n",
    "**Zeros**\n",
    "- None\n",
    "\n",
    "**Static gain**\n",
    "- $G(0) = 2 \\to 6 \\text{ dB}$\n"
   ]
  },
  {
   "cell_type": "markdown",
   "metadata": {},
   "source": [
    "We can then sketch the asymptotic Bode plot by applying the rules\n",
    "\n",
    "\n",
    "| Frequency                   |       What happens to the modulus plot                         |       What happens to the phase plot                    |   \n",
    "|-----------------------------|----------------------------------------------------------------|---------------------------------------------------------|\n",
    "| $0$ rad/s                   | The magnitude plot starts flat (slope is $0$) at $6 \\text{ dB}$ | The initial phase is $0^\\circ$                          |\n",
    "| $0.1$ rad/s (pole)          | The slope decreases from $0$ to $-1$                           | The phase decreases by $90^\\circ$                       |\n",
    "| $0.4$ rad/s (pole)          | The slope decreases from $-1$ to $-2$                          | The phase decreases by $90^\\circ$                       |\n",
    "| $2$ rad/s (complex poles)   | The slope decreases from $-2$ to $-4$                          | The phase decreases by $180^\\circ$                      |"
   ]
  },
  {
   "cell_type": "markdown",
   "metadata": {},
   "source": [
    "We can now sketch the Bode plot!"
   ]
  },
  {
   "cell_type": "code",
   "execution_count": 3,
   "metadata": {},
   "outputs": [
    {
     "name": "stderr",
     "output_type": "stream",
     "text": [
      "Unrecognized function or variable 'asymptotic_bode'."
     ]
    }
   ],
   "source": [
    "G = 0.4 / ((s + 0.1) * (s^2 + 0.4 * s + 4) * (s + 0.5));\n",
    "asymptotic_bode(G)"
   ]
  },
  {
   "cell_type": "code",
   "execution_count": null,
   "metadata": {},
   "outputs": [],
   "source": []
  }
 ],
 "metadata": {
  "kernelspec": {
   "display_name": "MATLAB Kernel",
   "language": "matlab",
   "name": "jupyter_matlab_kernel"
  },
  "language_info": {
   "file_extension": ".m",
   "mimetype": "text/x-matlab",
   "name": "matlab"
  }
 },
 "nbformat": 4,
 "nbformat_minor": 4
}
