{
 "cells": [
  {
   "cell_type": "markdown",
   "metadata": {},
   "source": [
    "(ref:lec3:ex4)=\n",
    "# Exercise 3.4"
   ]
  },
  {
   "cell_type": "markdown",
   "metadata": {},
   "source": [
    "```{figure} res/ex4.svg\n",
    "---\n",
    "height: 200\n",
    "name: fig:lec3:ex4:block\n",
    "---\n",
    "Block diagram of the closed loop\n",
    "```"
   ]
  },
  {
   "cell_type": "markdown",
   "metadata": {},
   "source": [
    "A system $G(s)$ is controlled using a feedback with a proportional controller according to {numref}`fig:lec3:ex4:block`. $G(s)$ has **no unstable pole**, that is, no pole with positive real part.\n",
    "\n",
    "In {numref}`fig:lec3:ex4:nyquist`, the Nyquist diagram of four different systems $G(s)$ are reported. Find, for each of these systems, the values of $K$ for which the closed-loop is stable. "
   ]
  },
  {
   "cell_type": "markdown",
   "metadata": {},
   "source": [
    "\n",
    "```{figure} res/ex4-nyq.png\n",
    "---\n",
    "width: 700\n",
    "name: fig:lec3:ex4:nyquist\n",
    "---\n",
    "Nyquist plots of $G(s)$\n",
    "```"
   ]
  },
  {
   "cell_type": "markdown",
   "metadata": {},
   "source": [
    "---"
   ]
  },
  {
   "cell_type": "markdown",
   "metadata": {},
   "source": [
    "*Solutions to be uploaded*"
   ]
  }
 ],
 "metadata": {
  "language_info": {
   "name": "python"
  }
 },
 "nbformat": 4,
 "nbformat_minor": 2
}
