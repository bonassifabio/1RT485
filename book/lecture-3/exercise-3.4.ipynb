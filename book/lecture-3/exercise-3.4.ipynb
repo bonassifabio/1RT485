{
 "cells": [
  {
   "cell_type": "markdown",
   "metadata": {},
   "source": [
    "(ref:lec3:ex4)=\n",
    "# Exercise 3.4"
   ]
  },
  {
   "cell_type": "markdown",
   "metadata": {},
   "source": [
    "```{figure} res/ex4.svg\n",
    "---\n",
    "height: 180\n",
    "name: fig:lec3:ex4:block\n",
    "---\n",
    "Block diagram of the closed loop\n",
    "```"
   ]
  },
  {
   "cell_type": "markdown",
   "metadata": {},
   "source": [
    "A system $G(s)$ is controlled using a feedback with a proportional controller according to {numref}`fig:lec3:ex4:block`. $G(s)$ has **no unstable pole**, that is, no pole with positive real part.\n",
    "\n",
    "In {numref}`fig:lec3:ex4:nyquist`, the Nyquist diagram of four different systems $G(s)$ are reported. Find, for each of these systems, the values of $K$ for which the closed-loop is stable. "
   ]
  },
  {
   "cell_type": "markdown",
   "metadata": {},
   "source": [
    "\n",
    "```{figure} res/ex4-nyq.png\n",
    "---\n",
    "width: 700\n",
    "name: fig:lec3:ex4:nyquist\n",
    "---\n",
    "Nyquist plots of $G(s)$\n",
    "```"
   ]
  },
  {
   "cell_type": "markdown",
   "metadata": {},
   "source": [
    "---"
   ]
  },
  {
   "cell_type": "markdown",
   "metadata": {},
   "source": [
    "## Solution\n",
    "\n",
    "The Nyquist criterion allows to assess the closed-loop stability, that is, the stability of the closed-loop transfer function $G_c(s) = \\frac{F(s)G(s)}{1 + F(s)G(s)}$ by analyzing the **Nyquist plot** of the open-loop transfer function $G_o(s) = F(s)G(s)$.\n",
    "\n",
    "Let's refresh the Nyquist theorem in the case where $G_o(s)$ **does not have unstable poles**."
   ]
  },
  {
   "cell_type": "markdown",
   "metadata": {},
   "source": [
    "```{admonition} Nyquist criterion\n",
    "The closed-loop $G_c(s)$ is stable if and only if the Nyquist plot enrircles the point $-1$ the same number of times in both clockwise and counterclockwise directions.\n",
    "```"
   ]
  },
  {
   "cell_type": "markdown",
   "metadata": {},
   "source": [
    "Note that the case where the Nyquist plot passes through the point $-1$ is not well defined."
   ]
  },
  {
   "cell_type": "markdown",
   "metadata": {},
   "source": [
    "### Plot (a)\n"
   ]
  },
  {
   "cell_type": "markdown",
   "metadata": {},
   "source": [
    "We start by pointing out that the Nyquist criterion is satisfied for $K=1$, since $N_{cw} = N_{ccw} = 0$, where $N_{cw}$ and $N_{ccw}$ are the number of clockwise and counter-clockwise encirclements of $-1$.\n",
    "\n",
    "Because the effect of $K$ is to scale up/down the Nyquist plot of $G_o(s)$, the Nyquist criterion is satisfied for any $0 < K < 2.5$. In fact, when $K = 2.5$, the point $-0.4$ overlaps with $-1$!\n",
    "\n",
    "$K > 2.5$ leads to instability since $N_{cw} = 2$ while $N_{ccw} = 0$."
   ]
  },
  {
   "cell_type": "markdown",
   "metadata": {},
   "source": [
    "### Plot (b)"
   ]
  },
  {
   "cell_type": "markdown",
   "metadata": {},
   "source": [
    "Since the Nyquist plot is not intersecting the real negative semi-axis, there exists no $K$ for which the point $-1$ is encircled.\n",
    "\n",
    "Therefore the Nyquist criterion is satisfied $\\forall K$."
   ]
  },
  {
   "cell_type": "markdown",
   "metadata": {},
   "source": [
    "### Plot (c)\n",
    "\n",
    "For $K=1$, the Nyquist plot does not satisfy the Nyquist criterion, since $N_{cw}=2$ and $N_{ccw}=0$.\n",
    "\n",
    "However, picking $0 < K < 0.5$, the Nyquist criterion is satisfied since $-1$ is not enricled (the intersection with the real negative semi-axis becomes $-2K > -1$)."
   ]
  },
  {
   "cell_type": "markdown",
   "metadata": {},
   "source": [
    "### Plot (d)\n",
    "\n"
   ]
  },
  {
   "cell_type": "markdown",
   "metadata": {},
   "source": [
    "We start by noting that the Nyquist plot of $G_o(s) = K G(s)$ intersects the real negative semi-axis in $-4K$ and $-2K$.\n",
    "\n",
    "Therefore\n",
    "- For $0 < K < 0.25$, the Nyquist criterion is satisfied because the plot does not encircle $-1$.\n",
    "- For $0 < K < 0.5$, the Nyquist criterion is **not** satisfied because $N_{cw} = 2$ and $N_{ccw} = 0$.\n",
    "- For $K > 0.5$, the Nyquist criterion is satisfied because $N_{cw} = N_{ccw} = 1$.\n",
    "\n",
    "Solution: $0 < K < 0.25 \\cup K > 0.5$."
   ]
  }
 ],
 "metadata": {
  "language_info": {
   "name": "python"
  }
 },
 "nbformat": 4,
 "nbformat_minor": 2
}
