{
 "cells": [
  {
   "cell_type": "markdown",
   "metadata": {},
   "source": [
    "(ref:lec2:ex2)=\n",
    "# Exercise 2.2\n"
   ]
  },
  {
   "cell_type": "markdown",
   "metadata": {},
   "source": [
    "We want to control the angular position of a DC motor. The transfer function between the applied voltage and the position is\n",
    "\n",
    "$$\n",
    "G(s) = \\frac{10}{s(s+10)}\n",
    "$$\n",
    "\n",
    "We adopt a proportional controller:\n",
    "\n",
    "$$\n",
    "F(s) = K\n",
    "$$\n",
    "\n",
    "\n",
    "1. For which values of $K$ is the closed-loop stable?\n",
    "2. If the reference signal is $\\theta_{ref}(t) = R \\cdot \\textrm{step}(t)$, for what values of $K$ the steady-state output error is less than $1\\%$?"
   ]
  },
  {
   "cell_type": "markdown",
   "metadata": {},
   "source": [
    "---"
   ]
  },
  {
   "cell_type": "markdown",
   "metadata": {},
   "source": [
    "*Solution to be uploaded*"
   ]
  }
 ],
 "metadata": {
  "language_info": {
   "name": "python"
  }
 },
 "nbformat": 4,
 "nbformat_minor": 2
}
