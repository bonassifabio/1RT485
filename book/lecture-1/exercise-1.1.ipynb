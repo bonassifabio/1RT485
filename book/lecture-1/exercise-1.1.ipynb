{
 "cells": [
  {
   "cell_type": "markdown",
   "metadata": {},
   "source": [
    "(ref:lec1:ex1)=\n",
    "# Exercise 1.1\n"
   ]
  },
  {
   "cell_type": "markdown",
   "metadata": {},
   "source": [
    "```{figure} res/ex1.png\n",
    ":align: center\n",
    "\n",
    "Schematic of the motor (courtesy of [*Exercise Manual for Automatic Control*](https://uppsala.instructure.com/courses/102131/files/7991063?module_item_id=1296223))\n",
    "```"
   ]
  },
  {
   "cell_type": "markdown",
   "metadata": {},
   "source": [
    "The scheme above is a DC motor  characterized by the following physical relationships. The rotating axis is described by \n",
    "\n",
    "$$J\\ddot{\\theta} = -f\\dot{\\theta} + M,$$\n",
    "\n",
    "where $\\theta$ is the angle of rotation, $M$ is the torque, $J$ is the angular momentum, and $f$ is the frictional coefficient. \n",
    "\n",
    "The torque is related to the stator current by the following relationship\n",
    "\n",
    "$$M = k_a i$$\n",
    "\n",
    "where $i$ is the stator current and  $k_a$ is a proportional constant characteristic for the motor. In addition, \n",
    "\n",
    "$$V = k_v\\dot{\\theta}$$\n",
    "\n",
    "where $V$ is the induced voltage and $k_v$ is a proportional constant. \n",
    "\n",
    "Let the input voltage $u$ be the control signal and $\\theta$ be the output. \n",
    "\n",
    "1. Write a differential equation that relates $u$ and $\\theta$ (the inductance $L_a$ can be neglected). \n",
    "2. Determine the transfer function  between the input and the output. \n",
    "3. Discuss the behavior of the system by calculating step response of the system. That is, $\\theta(t)$ when $u = \\textrm{step}(t)$."
   ]
  },
  {
   "cell_type": "markdown",
   "metadata": {},
   "source": [
    "----"
   ]
  },
  {
   "cell_type": "code",
   "execution_count": 1,
   "metadata": {},
   "outputs": [
    {
     "name": "stderr",
     "output_type": "stream",
     "text": [
      "\n",
      "                Error: MATLAB Kernel could not start the MATLAB proxy process via proxy manager.\n",
      "                "
     ]
    }
   ],
   "source": [
    "s = tf('s');\n",
    "G = 1/(s^2 + 2*s + 1);\n",
    "bode(G);"
   ]
  },
  {
   "cell_type": "code",
   "execution_count": null,
   "metadata": {},
   "outputs": [],
   "source": []
  }
 ],
 "metadata": {
  "kernelspec": {
   "display_name": "MATLAB Kernel",
   "language": "matlab",
   "name": "jupyter_matlab_kernel"
  },
  "language_info": {
   "file_extension": ".m",
   "mimetype": "text/x-matlab",
   "name": "matlab"
  }
 },
 "nbformat": 4,
 "nbformat_minor": 2
}
