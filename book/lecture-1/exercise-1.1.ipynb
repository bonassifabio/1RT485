{
 "cells": [
  {
   "cell_type": "markdown",
   "metadata": {},
   "source": [
    "(ref:lec1:ex1)=\n",
    "# Exercise 1.1\n"
   ]
  },
  {
   "cell_type": "markdown",
   "metadata": {},
   "source": [
    "```{figure} res/ex1.png\n",
    ":align: center\n",
    "\n",
    "Schematic of the motor (courtesy of [*Exercise Manual for Automatic Control*](https://uppsala.instructure.com/courses/102131/files/7991063?module_item_id=1296223))\n",
    "```"
   ]
  },
  {
   "cell_type": "markdown",
   "metadata": {},
   "source": [
    "The scheme above is a DC motor  characterized by the following physical relationships. The rotating axis is described by \n",
    "\n",
    "$$J\\ddot{\\theta} = -f\\dot{\\theta} + M,$$\n",
    "\n",
    "where $\\theta$ is the angle of rotation, $M$ is the torque, $J$ is the angular momentum, and $f$ is the frictional coefficient. \n",
    "\n",
    "The torque is related to the stator current by the following relationship\n",
    "\n",
    "$$M = k_a i$$\n",
    "\n",
    "where $i$ is the stator current and  $k_a$ is a proportional constant characteristic for the motor. In addition, \n",
    "\n",
    "$$v = k_v\\dot{\\theta}$$\n",
    "\n",
    "where $v$ is the induced voltage and $k_v$ is a proportional constant. \n",
    "\n",
    "Let the input voltage $u$ be the control signal and $\\theta$ be the output. \n",
    "\n",
    "1. Write a differential equation that relates $u$ and $\\theta$ (the inductance $L_a$ can be neglected). \n",
    "2. Determine the transfer function  between the input and the output. \n",
    "3. Discuss the behavior of the system by calculating step response of the system. That is, $\\theta(t)$ when $u = \\textrm{step}(t)$."
   ]
  },
  {
   "cell_type": "markdown",
   "metadata": {},
   "source": [
    "----"
   ]
  },
  {
   "cell_type": "markdown",
   "metadata": {},
   "source": [
    "## Solution\n",
    "\n",
    "Let's start by noting that $V_L(t) = L_a \\frac{di}{dt}$ corresponds, in the Laplace domain, to $V_L(s) = L_a s I(s)$, where $s$ is the Laplace operator. Similarly, the induced voltage is $v(t) = k_v \\dot{\\theta}(t)$, which means $V(s) = k_v s \\Theta(s)$.\n",
    "\n",
    "### Question 1\n",
    "From the Ohm's law, we have that $U(s) = R_a I(s) + L_a s I(s) + k_v s \\Theta(s)$.\n",
    "Solving by $I(s)$, and recalling that $L_a = 0$, we get\n",
    "\n",
    "$$\n",
    "I(s) = \\frac{U(s)}{R_a} - \\frac{k_v s}{R_a} \\Theta(s)\n",
    "$$\n"
   ]
  },
  {
   "cell_type": "markdown",
   "metadata": {},
   "source": [
    "### Question 2\n",
    "From the momentum balance, \n",
    "\n",
    "$$\n",
    "J s^2 \\Theta(s) = -f_s \\Theta(s) + M(s) =  -f_s \\Theta(s)  + k_a I(s)\n",
    "$$\n",
    "\n",
    "Replacing the expression of $I(s)$ we get\n",
    "\n",
    "$$\n",
    "J s^2 \\Theta(s) + f_s \\Theta(s) =  k_a \\left( \\frac{U(s)}{R_a} - \\frac{k_v s}{R_a}\\Theta(s) \\right)\n",
    "$$\n",
    "\n",
    "We then isolate $\\Theta(s)$:\n",
    "\n",
    "$$\n",
    "\\Theta(s) = \\frac{\\frac{k_a}{R_a}}{s^2 J + \\left(f_s + \\frac{k_a k_v}{R_a}\\right)s} U(s)\n",
    "$$\n",
    "\n",
    "The transfer function is therefore\n",
    "\n",
    "$$\n",
    "\\Theta(s) =  \\frac{k_o}{s \\left(s + \\alpha\\right)} U(s)\n",
    "$$ (eq:lec1:ex1:theta)\n",
    "\n",
    "where $k_o = \\frac{k_a}{R_a J}$ and  $\\alpha = \\frac{f_s + \\frac{k_a k_v}{R_a}}{J}$."
   ]
  },
  {
   "cell_type": "markdown",
   "metadata": {},
   "source": [
    "**Note**: the ODE describing the evolution of the angle can be derived as\n",
    "\n",
    "$$s(s+\\alpha) \\Theta(s) = k_o U(s) \\quad \\rightarrow \\quad \\frac{d^2}{d t^2} \\theta(t) + \\alpha \\frac{d}{d t} \\theta(t) = k_o u(t)$$"
   ]
  },
  {
   "cell_type": "markdown",
   "metadata": {},
   "source": [
    "### Question 3"
   ]
  },
  {
   "cell_type": "markdown",
   "metadata": {},
   "source": [
    "We can get a qualitative idea of the step response  by looking at the static gain and poles of the transfer function {eq}`eq:lec1:ex1:theta`."
   ]
  },
  {
   "cell_type": "markdown",
   "metadata": {},
   "source": [
    "We compute the **poles** as the roots of the denominator, i.e. by solving $s(s+\\alpha) = 0$. We have two poles:\n",
    "\n",
    "- $s=-\\alpha < 0$, which is stable.\n",
    "- $s = 0$, which is only marginally stable. This pole is due to the fact that the angular position $\\theta(t)$ is the integral of the angular velocity $\\dot{\\theta}(t)$. In the Laplace domain, this corresponds to $\\Theta(s) = \\frac{1}{s} \\dot{\\Theta}(s)$.\n",
    "\n",
    "Because the assumption of the Final Value Theorem are **not satisfied** (not all the poles are stable, that is, not all the poles have strictly negative real part), **we cannot apply it** to compute $\\lim_{t \\to \\infty} \\theta(t)$."
   ]
  },
  {
   "cell_type": "markdown",
   "metadata": {},
   "source": [
    "Whether such a limit exists and is finite depends on the specific input $u(t)$ applied to the system. We can get the output by computing the output $\\Theta(s)$ in the Laplace domain, and then anti-transforming it to get $\\theta(t)$."
   ]
  },
  {
   "cell_type": "markdown",
   "metadata": {},
   "source": [
    "Noting that $U(s) = \\mathcal{L} \\left[ \\textrm{step}(t) \\right] = \\frac{1}{s}$, we get\n",
    "\n",
    "$$\n",
    "\\Theta(s) = \\frac{k_o}{s(s+\\alpha)} \\frac{1}{s} = \\frac{k_o}{s^2(s+\\alpha)}\n",
    "$$\n",
    "\n",
    "We then decompose it into the sum of simpler rational transfer functions\n",
    "\n",
    "$$\n",
    "\\Theta(s) = \\frac{A}{s} + \\frac{B}{s} + \\frac{C}{s+\\alpha}\n",
    "$$\n",
    "\n",
    "The values of $A$, $B$, and $C$ are found equating the two expressions of $\\Theta(s)$:\n",
    "\n",
    "$$\n",
    "\\frac{A}{s} + \\frac{B}{s^2} + \\frac{C}{s+\\alpha} = \\frac{As(s+\\alpha) + B(s+\\alpha) + C s^2}{s^2(s+\\alpha)} = \\frac{(A+C)s^2 + (A \\alpha + B)s + B \\alpha}{s^2(s+\\alpha)} = \\frac{k_o}{s^2(s+\\alpha)}\n",
    "$$\n",
    "\n",
    "$A$, $B$, and $C$ can be found by comparing the coefficients of the polynomial at the numerator, which results in a linear system of equations\n",
    "\n",
    "$$\n",
    "\\left\\{ \\begin{array}{l}\n",
    "    A + C = 0 \\\\\n",
    "    A \\alpha + B = 0 \\\\\n",
    "    B \\alpha = k_o \\end{array} \\right. \\quad \\Rightarrow \\quad A = - \\frac{k_o}{\\alpha^2}, B = \\frac{k_o}{\\alpha}, C = \\frac{k_o}{\\alpha^2}\n",
    "$$"
   ]
  },
  {
   "cell_type": "markdown",
   "metadata": {},
   "source": [
    "We can therefore re-write $\\Theta(s)$ as \n",
    "\n",
    "$$\n",
    "\\Theta(s) = \\frac{A}{s} + \\frac{B}{s^2} + \\frac{C}{s+\\alpha}\n",
    "$$\n",
    "\n",
    "This allows us to easily anti-transform $\\Theta(s)$\n",
    "\n",
    "$$\n",
    "\\begin{aligned}\n",
    "\\theta(t) =& \\mathcal{L}^{-1}\\left[ \\Theta(s)  \\right] = \\mathcal{L}^{-1}\\left[ \\frac{A}{s}  \\right] + \\mathcal{L}^{-1}\\left[ \\frac{B}{s^2}  \\right] + \\mathcal{L}^{-1}\\left[ \\frac{C}{s+\\alpha}  \\right]\\\\\n",
    "=& A \\cdot \\textrm{step}(t) + B \\cdot \\textrm{ramp}(t) + C \\cdot e^{-\\alpha t} \\textrm{step}(t)\n",
    "\\end{aligned}\n",
    "$$"
   ]
  },
  {
   "cell_type": "markdown",
   "metadata": {},
   "source": [
    "Note that $\\lim_{t \\to \\infty} \\theta(t) = \\infty$."
   ]
  },
  {
   "cell_type": "markdown",
   "metadata": {},
   "source": [
    "Let's use MATLAB (Octave) to plot the step response (we will take $\\alpha=1$ and $k_o=1$ since numerical values are not provided in the text of the exercise)."
   ]
  },
  {
   "cell_type": "code",
   "execution_count": 2,
   "metadata": {},
   "outputs": [
    {
     "data": {
      "image/png": "[encoded data removed]"
     },
     "execution_count": 2,
     "metadata": {},
     "output_type": "execute_result"
    }
   ],
   "source": [
    "s = tf('s');\n",
    "G = 1 / (s * (s + 1));\n",
    "\n",
    "step(G);     % Get the step response of the transfer function G"
   ]
  },
  {
   "cell_type": "markdown",
   "metadata": {},
   "source": [
    "```{admonition} Remember\n",
    ":class: note\n",
    "Before applying the Final Value Theorem, always check that its assumptions are satisfied! \n",
    "```"
   ]
  }
 ],
 "metadata": {
  "kernelspec": {
   "display_name": "MATLAB Kernel",
   "language": "matlab",
   "name": "jupyter_matlab_kernel"
  },
  "language_info": {
   "file_extension": ".m",
   "mimetype": "text/x-matlab",
   "name": "matlab"
  }
 },
 "nbformat": 4,
 "nbformat_minor": 2
}
