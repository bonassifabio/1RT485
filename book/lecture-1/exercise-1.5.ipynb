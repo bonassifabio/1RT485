{
 "cells": [
  {
   "cell_type": "markdown",
   "metadata": {},
   "source": [
    "# Exercise 1.5"
   ]
  },
  {
   "cell_type": "markdown",
   "metadata": {},
   "source": [
    "```{figure} res/ex5.png\n",
    ":align: center\n",
    "\n",
    "Step responses to consider (courtesy of [*Exercise Manual for Automatic Control*](https://uppsala.instructure.com/courses/102131/files/7991063?module_item_id=1296223))\n",
    "```"
   ]
  },
  {
   "cell_type": "markdown",
   "metadata": {},
   "source": [
    "Pair each step response in the plot above with the correct transfer function from the list below:\n",
    "\n",
    "1. $G_1(s) = \\frac{2}{s^2 + s + 1}$\n",
    "2. $G_2(s) = \\frac{1}{s^2 + s + 1}$\n",
    "3. $G_3(s) = \\frac{1}{s^2 + 0.1s + 1}$\n",
    "4. $G_4(s) = \\frac{1}{s^2 + 2s + 1}$"
   ]
  },
  {
   "cell_type": "markdown",
   "metadata": {},
   "source": [
    "---"
   ]
  },
  {
   "cell_type": "markdown",
   "metadata": {},
   "source": [
    "*Solution to be uploaded*"
   ]
  }
 ],
 "metadata": {
  "kernelspec": {
   "display_name": "MATLAB Kernel",
   "language": "matlab",
   "name": "jupyter_matlab_kernel"
  },
  "language_info": {
   "codemirror_mode": "octave",
   "file_extension": ".m",
   "mimetype": "text/x-octave",
   "name": "matlab",
   "nbconvert_exporter": "",
   "pygments_lexer": "octave",
   "version": "8.4.0"
  }
 },
 "nbformat": 4,
 "nbformat_minor": 2
}
