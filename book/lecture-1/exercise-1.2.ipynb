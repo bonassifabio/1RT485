{
 "cells": [
  {
   "cell_type": "markdown",
   "metadata": {},
   "source": [
    "(ref:lec1:ex2)=\n",
    "# Exercise 1.2"
   ]
  },
  {
   "cell_type": "markdown",
   "metadata": {},
   "source": [
    "```{figure} res/ex2.png\n",
    ":align: center\n",
    "\n",
    "Schematic of the motor with a load (courtesy of [*Exercise Manual for Automatic Control*](https://uppsala.instructure.com/courses/102131/files/7991063?module_item_id=1296223))\n",
    "```"
   ]
  },
  {
   "cell_type": "markdown",
   "metadata": {},
   "source": [
    "Assume that the DC-motor in {ref}`ref:lec1:ex1` is running a load attached to an elastic axis, as in the figure above.\n",
    "Let $k$ be the axis' spring constant, and let $J_L$ be the moment of inertia of the load.\n",
    "\n",
    "1. Write the transfer function between the input voltage $u$ and the angle $\\theta_L$."
   ]
  },
  {
   "cell_type": "markdown",
   "metadata": {},
   "source": [
    "----"
   ]
  },
  {
   "cell_type": "markdown",
   "metadata": {},
   "source": [
    "## Solution"
   ]
  },
  {
   "cell_type": "markdown",
   "metadata": {},
   "source": [
    "Writing the momentum balance of the load and of the motor we get, respectively\n",
    "\n",
    "$$\n",
    "\\begin{aligned}\n",
    "J_L \\ddot{\\theta}_L =& - f_L \\dot{\\theta}_L - k (\\theta_L - \\theta_m) \\\\\n",
    "J_m \\ddot{\\theta}_m =& -f_m \\dot{\\theta}_m + k (\\theta_L - \\theta_m) + k_a i\n",
    "\\end{aligned}\n",
    "$$"
   ]
  },
  {
   "cell_type": "markdown",
   "metadata": {},
   "source": [
    "Moving to the Laplace domain,\n",
    "\n",
    "$$\n",
    "\\begin{aligned}\n",
    "J_L s^2 {\\Theta}_L(s) =& - f_L s {\\Theta}_L(s) - k (\\Theta_L(s) - \\Theta_m(s)) \\\\\n",
    "J_m s^2 {\\Theta}_m(s) =& -f_m s {\\Theta}_m(s) + k (\\Theta_L(s) - \\Theta_m(s)) + k_a I(s)\n",
    "\\end{aligned}\n",
    "$$\n",
    "\n",
    "We can isolate $\\Theta_m(s)$ from the second equation:\n",
    "\n",
    "$$\n",
    "\\Theta_m(s) = \\frac{k}{J_m s^2 + f_m s + k} \\Theta_L(s) + \\frac{k_a}{J_m  s^2+ f_m s + k} I(s)\n",
    "$$"
   ]
  },
  {
   "cell_type": "markdown",
   "metadata": {},
   "source": [
    "Replacing it back into the first equation, we get"
   ]
  },
  {
   "cell_type": "markdown",
   "metadata": {},
   "source": [
    "$$\n",
    "(J_L s^2 + f_L s + k) \\Theta_L(s) = \\frac{k^2}{J_m s^2 + f_m s + k} \\Theta_L(s) + \\frac{k \\cdot k_a}{J_m  s^2+ f_m s + k} I(s)\n",
    "$$"
   ]
  },
  {
   "cell_type": "markdown",
   "metadata": {},
   "source": [
    "Isolating $\\Theta_L(s)$, and recalling that $I(s) = \\frac{U(s)}{R_a}$, we finally get our transfer function\n",
    "\n",
    "$$\n",
    "\\Theta_L(s) = \\frac{\\frac{k \\cdot k_a}{R_a}}{J_m J_L s^4 + (J_m f_L + J_L f_m)s^3 + (k J_m + k J_L + f_M f_L) s^2 + k(f_L + f_m) s} U(s)\n",
    "$$"
   ]
  }
 ],
 "metadata": {
  "kernelspec": {
   "display_name": "MATLAB Kernel",
   "language": "matlab",
   "name": "jupyter_matlab_kernel"
  },
  "language_info": {
   "codemirror_mode": "octave",
   "file_extension": ".m",
   "mimetype": "text/x-octave",
   "name": "matlab",
   "nbconvert_exporter": "",
   "pygments_lexer": "octave",
   "version": "8.4.0"
  }
 },
 "nbformat": 4,
 "nbformat_minor": 2
}
