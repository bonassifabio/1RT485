{
 "cells": [
  {
   "cell_type": "markdown",
   "metadata": {},
   "source": [
    "# Exercise 1.4"
   ]
  },
  {
   "cell_type": "markdown",
   "metadata": {},
   "source": [
    "```{figure} res/ex4.png\n",
    ":align: center\n",
    "\n",
    "Step responses to consider (courtesy of [*Exercise Manual for Automatic Control*](https://uppsala.instructure.com/courses/102131/files/7991063?module_item_id=1296223))\n",
    "```"
   ]
  },
  {
   "cell_type": "markdown",
   "metadata": {},
   "source": [
    "Pair each step response in the plot above with the correct transfer function from the list below:\n",
    "\n",
    "1. $G_1(s) = \\frac{100}{s^2 + 2s + 100}$\n",
    "2. $G_2(s) = \\frac{1}{s+2}$\n",
    "3. $G_3(s) = \\frac{10 s^2 + 200s + 2000}{(s+10)(s^2 + 10s + 100)}$\n",
    "4. $G_4(s) = \\frac{100}{s^2 + 10s + 100} \\cdot \\frac{2}{s+2}$\n",
    "5. $G_5(s) = \\frac{100}{s^2 + 10s + 100} + \\frac{2}{s+2}$\n",
    "6. $G_6(s) = \\frac{100}{s^2 - 10s + 100} \\cdot \\frac{1}{s+2}$"
   ]
  },
  {
   "cell_type": "markdown",
   "metadata": {},
   "source": [
    "---"
   ]
  },
  {
   "cell_type": "markdown",
   "metadata": {},
   "source": [
    "## Solution"
   ]
  },
  {
   "cell_type": "markdown",
   "metadata": {},
   "source": [
    "Considering a **stable** transfer function $G(s)$, the following facts can be considered.\n",
    "\n",
    "* If $G(s)$ has order greater than two, the **dominant poles** are those with the smallest (least negative) real part.\n",
    "* The empirical rule for estimating the 99% settling time $T_{99\\%}$ of $G(s)$ is $T_{99\\%} \\approx \\frac{4.6}{-\\alpha_d}$, where $\\alpha_d$ is the real part of the dominant pole.\n",
    "* If the dominant poles are complex conjugate, the step response is oscillatory. Letting $\\alpha$ and $\\beta$ be the real and imaginary parts of the complex eigenvalues, respectively, the damping coefficient $\\xi$ is defined as $\\xi = \\frac{-\\alpha}{\\sqrt{\\alpha^2 + \\beta^2}}$.\n",
    "  - Overdamped systems: $\\xi \\sim 0.75 \\div 1.0$\n",
    "  - Damped systems: $\\xi \\sim 0.5 \\div 0.75$\n",
    "  - Underdamped systems: $\\xi \\sim 0 \\div 0.5$\n",
    "* The steady-state output is $y(\\infty) = G(0) u(\\infty)$. \n"
   ]
  },
  {
   "cell_type": "markdown",
   "metadata": {},
   "source": [
    "### $G_1(s)$"
   ]
  },
  {
   "cell_type": "markdown",
   "metadata": {},
   "source": [
    "* Second order transfer function\n",
    "* Unitary static gain -- $G_1(0) = 1$\n",
    "* Underdamped (highly oscillatory)\n",
    "* $T_{99\\%} \\approx 4.6$ seconds\n",
    "\n",
    "These characteristics match **plot (c)** "
   ]
  },
  {
   "cell_type": "markdown",
   "metadata": {},
   "source": [
    "### $G_2(s)$"
   ]
  },
  {
   "cell_type": "markdown",
   "metadata": {},
   "source": [
    "* First order transfer function\n",
    "* Static gain $G_2(0) = 0.5$\n",
    "* $T_{99\\%} \\approx 2.3$ seconds"
   ]
  },
  {
   "cell_type": "markdown",
   "metadata": {},
   "source": [
    "### $G_3(s)$"
   ]
  },
  {
   "cell_type": "markdown",
   "metadata": {},
   "source": [
    "* Dominant poles: complex-conjugate eigenvalues\n",
    "* Static gain $G_3(0) = 2$\n",
    "* $T_{99\\%} \\approx 0.9$ seconds\n",
    "\n",
    "These characteristics match **plot (d)** "
   ]
  },
  {
   "cell_type": "markdown",
   "metadata": {},
   "source": [
    "### $G_4(s)$"
   ]
  },
  {
   "cell_type": "markdown",
   "metadata": {},
   "source": [
    "* Dominant pole: real pole in $-2$\n",
    "* Unitary static gain $G_4(0) = 1$\n",
    "* $T_{99\\%} \\approx 2.3$ seconds\n",
    "\n",
    "\n",
    "These characteristics match **plot (b)** "
   ]
  },
  {
   "cell_type": "markdown",
   "metadata": {},
   "source": [
    "### $G_5(s)$\n",
    "* Dominant pole: real pole in $-2$\n",
    "* Static gain $G_5(0) = 2$\n",
    "* $T_{99\\%} \\approx 2.3$ seconds\n",
    "\n",
    "These characteristics match **plot (a)** "
   ]
  },
  {
   "cell_type": "markdown",
   "metadata": {},
   "source": [
    "### $G_6(s)$\n",
    "* Unstable eigenvalues!"
   ]
  }
 ],
 "metadata": {
  "kernelspec": {
   "display_name": "MATLAB Kernel",
   "language": "matlab",
   "name": "jupyter_matlab_kernel"
  },
  "language_info": {
   "codemirror_mode": "octave",
   "file_extension": ".m",
   "mimetype": "text/x-octave",
   "name": "matlab",
   "nbconvert_exporter": "",
   "pygments_lexer": "octave",
   "version": "8.4.0"
  }
 },
 "nbformat": 4,
 "nbformat_minor": 2
}
