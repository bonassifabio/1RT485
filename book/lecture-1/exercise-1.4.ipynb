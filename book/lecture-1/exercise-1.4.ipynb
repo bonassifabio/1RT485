{
 "cells": [
  {
   "cell_type": "markdown",
   "metadata": {},
   "source": [
    "# Exercise 1.4"
   ]
  },
  {
   "cell_type": "markdown",
   "metadata": {},
   "source": [
    "```{figure} res/ex4.png\n",
    ":align: center\n",
    "\n",
    "Step responses to consider (courtesy of [*Exercise Manual for Automatic Control*](https://uppsala.instructure.com/courses/102131/files/7991063?module_item_id=1296223))\n",
    "```"
   ]
  },
  {
   "cell_type": "markdown",
   "metadata": {},
   "source": [
    "Pair each step response in the plot above with the correct transfer function from the list below:\n",
    "\n",
    "1. $G_1(s) = \\frac{100}{s^2 + 2s + 100}$\n",
    "2. $G_2(s) = \\frac{1}{s+2}$\n",
    "3. $G_3(s) = \\frac{10 s^2 + 200s + 2000}{(s+10)(s^2 + 10s + 100)}$\n",
    "4. $G_4(s) = \\frac{100}{s^2 + 10s + 100} \\cdot \\frac{2}{s+2}$\n",
    "5. $G_5(s) = \\frac{100}{s^2 + 10s + 100} + \\frac{2}{s+2}$\n",
    "6. $G_6(s) = \\frac{100}{s^2 - 10s + 100} \\cdot \\frac{1}{s+2}$"
   ]
  },
  {
   "cell_type": "markdown",
   "metadata": {},
   "source": [
    "---"
   ]
  }
 ],
 "metadata": {
  "kernelspec": {
   "display_name": "MATLAB Kernel",
   "language": "matlab",
   "name": "jupyter_matlab_kernel"
  },
  "language_info": {
   "codemirror_mode": "octave",
   "file_extension": ".m",
   "mimetype": "text/x-octave",
   "name": "matlab",
   "nbconvert_exporter": "",
   "pygments_lexer": "octave",
   "version": "8.4.0"
  }
 },
 "nbformat": 4,
 "nbformat_minor": 2
}
