{
 "cells": [
  {
   "cell_type": "markdown",
   "metadata": {},
   "source": [
    "(ref:lec4:ex1)=\n",
    "# Exercise 4.1"
   ]
  },
  {
   "cell_type": "markdown",
   "metadata": {},
   "source": [
    "We are given a mechanical system represented by the transfer function $G(s)$. While an explicit expression for $G(s)$ is not available, we have obtained its frequency response through a lot of [hammer tests](https://en.wikipedia.org/wiki/Modal_testing). The resulting frequency response is depicted in {numref}`fig:lec4:ex1:bode` below."
   ]
  },
  {
   "cell_type": "markdown",
   "metadata": {},
   "source": [
    "```{figure} res/ex1-bode.svg\n",
    "---\n",
    "width: 750px\n",
    "name: fig:lec4:ex1:bode\n",
    "---\n",
    "Bode plot of the mechanical system $G(s)$\n",
    "```"
   ]
  },
  {
   "cell_type": "markdown",
   "metadata": {},
   "source": [
    "1. Design a proportional controller $F(s)=K$ such that the following specifications are satisfied:\n",
    "   - The closed-loop is stable.\n",
    "   - The bandwidth is greater than $1$ rad/s, but it does not exceed $10$ rad/s.\n",
    "   - The phase margin $\\varphi_m$ is larger than $45^\\circ$.\n",
    "2. What will be the worst-case resonance peak of the closed-loop transfer function $G_c(s)$? "
   ]
  },
  {
   "cell_type": "markdown",
   "metadata": {},
   "source": [
    "---"
   ]
  },
  {
   "cell_type": "markdown",
   "metadata": {},
   "source": [
    "## Solution"
   ]
  },
  {
   "cell_type": "markdown",
   "metadata": {},
   "source": [
    "*To be uploaded*"
   ]
  },
  {
   "cell_type": "markdown",
   "metadata": {},
   "source": []
  }
 ],
 "metadata": {
  "language_info": {
   "name": "python"
  }
 },
 "nbformat": 4,
 "nbformat_minor": 2
}
