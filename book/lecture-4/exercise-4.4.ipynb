{
 "cells": [
  {
   "cell_type": "markdown",
   "metadata": {},
   "source": [
    "(ref:lec4:ex4)=\n",
    "# Exercise 4.4"
   ]
  },
  {
   "cell_type": "markdown",
   "metadata": {},
   "source": [
    "```{figure} res/ex4.svg\n",
    "---\n",
    "height: 200\n",
    "name: fig:lec4:ex4:car\n",
    "---\n",
    "Block diagram of the electric car\n",
    "```"
   ]
  },
  {
   "cell_type": "markdown",
   "metadata": {},
   "source": [
    "The cruise controller of an electric car works by adjusting the voltage applied to the electric motor to regulate the velocity, making sure it is as close as possible to the speed setpoint coming from the driver. The system has the following dynamics:\n",
    "\n",
    "**Electric Dynamics** (Voltage $\\to$ Current): $G_2(s) = \\frac{90}{s + 100}$\n",
    "\n",
    "**Mechanical Dynamics** (Current $\\to$ Speed): $G_1(s) = \\frac{5}{s + 0.2}$\n",
    "\n",
    "The block diagram of the car is shown in {numref}`fig:lec4:ex4:car`. Both the motor current and the car velocity are measured, respectively with an [Hall-effect sensor](https://en.wikipedia.org/wiki/Hall_effect_sensor) and a [speedometer](https://en.wikipedia.org/wiki/Speedometer).\n",
    "   \n",
    "1. Sketch the block diagram of the system when a cascade control scheme is used. What are the control variable, the  *intermediate signal* that is fed back in the internal loop, and the output?\n",
    "2. We start designing the cascade control scheme by the inner controller. Assume that we use a proportional controller $F_i(s) = K_2$. Design $K_2$ so that the bandwidth of the inner loop is at least $25 {rad/s}$ and the steady-state error of this internal loop is no larger than $1\\%$.\n",
    "3. We now design the controller for the outer loop as a proportional controller $F(s) = K_1$. Choose $K_1$ so that the bandwidth of the closed-loop is at least $1 rad/s$.\n",
    "4. Compute the steady-state output tracking error of the closed-loop. How can you modify the scheme so that the steady-state error is exactly zero?"
   ]
  },
  {
   "cell_type": "markdown",
   "metadata": {},
   "source": []
  }
 ],
 "metadata": {
  "language_info": {
   "name": "python"
  }
 },
 "nbformat": 4,
 "nbformat_minor": 2
}
