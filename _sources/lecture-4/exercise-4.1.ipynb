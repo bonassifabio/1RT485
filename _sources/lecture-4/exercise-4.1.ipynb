{
 "cells": [
  {
   "cell_type": "markdown",
   "metadata": {},
   "source": [
    "(ref:lec4:ex1)=\n",
    "# Exercise 4.1"
   ]
  },
  {
   "cell_type": "markdown",
   "metadata": {},
   "source": [
    "We are given a mechanical system represented by the transfer function $G(s)$. While an explicit expression for $G(s)$ is not available, we have obtained its frequency response through a lot of [hammer tests](https://en.wikipedia.org/wiki/Modal_testing). The resulting frequency response is depicted in {numref}`fig:lec4:ex1:bode` below."
   ]
  },
  {
   "cell_type": "markdown",
   "metadata": {},
   "source": [
    "```{figure} res/ex1-bode.svg\n",
    "---\n",
    "width: 750px\n",
    "name: fig:lec4:ex1:bode\n",
    "---\n",
    "Bode plot of the mechanical system $G(s)$\n",
    "```"
   ]
  },
  {
   "cell_type": "markdown",
   "metadata": {},
   "source": [
    "1. Design a proportional controller $F(s)=K$ such that the following specifications are satisfied:\n",
    "   - The closed-loop is stable.\n",
    "   - The bandwidth is greater than $5$ rad/s, but it does not exceed $15$ rad/s.\n",
    "   - The phase margin $\\varphi_m$ is larger than $45^\\circ$.\n",
    "2. What will be the worst-case resonance peak of the closed-loop transfer function $G_c(s)$? "
   ]
  },
  {
   "cell_type": "markdown",
   "metadata": {},
   "source": [
    "---"
   ]
  },
  {
   "cell_type": "markdown",
   "metadata": {},
   "source": [
    "## Solution"
   ]
  },
  {
   "cell_type": "markdown",
   "metadata": {},
   "source": [
    "### Question 1\n",
    "\n",
    "We start by recalling that, letting $G_o(s) = F(s) G(s)$ be the open-loop transfer function\n",
    "\n",
    "$$\n",
    "\\lvert G_o(i \\omega) \\lvert_{\\text{dB}} = \\lvert F(i \\omega) \\lvert_{\\text{dB}}  + \\lvert G(i \\omega) \\lvert_{\\text{dB}} \n",
    "$$ (eq:lec4:ex1:modulus)\n",
    "\n",
    "$$\n",
    "\\angle G_o(i \\omega) = \\angle F(i \\omega) + \\angle G(i \\omega)\n",
    "$$ (eq:lec4:ex1:phase)"
   ]
  },
  {
   "cell_type": "markdown",
   "metadata": {},
   "source": [
    "This means that the Bode plots of $G_o(s)$, and hence the closed-loop performance, can be inferred from the Bode plots of $G(s)$ without actually knowing its analytical expression!"
   ]
  },
  {
   "cell_type": "markdown",
   "metadata": {},
   "source": [
    "In this specific case, we have a proportional controller. This means that \n",
    "- $\\lvert F(i \\omega) \\lvert_{\\text{dB}} = K_{\\text{dB}} = 20 \\log_{10} K$\n",
    "- $\\angle F(i \\omega) = 0^\\circ$ as long as $K > 0$"
   ]
  },
  {
   "cell_type": "markdown",
   "metadata": {},
   "source": [
    "According to {eq}`eq:lec4:ex1:modulus` and {eq}`eq:lec4:ex1:phase`, $\\angle G_o(i \\omega)$ remains unchanged, while $\\lvert G_o(i \\omega) \\lvert_{\\text{dB}}$ is obtained by shifting $\\lvert G(i \\omega) \\lvert_{\\text{dB}}$ up/down by $K_{\\text{dB}}$."
   ]
  },
  {
   "cell_type": "markdown",
   "metadata": {},
   "source": [
    "```{note}\n",
    "The closed-loop bandwidth is approximately equal to the critical frequency of the open-loop transfer function $G_o(i\\omega)$, i.e., the frequency $\\omega_c$ where $\\lvert G_o(i \\omega_c) \\lvert_{\\text{dB}}$ cuts the $0$ dB axis. \n",
    "```\n"
   ]
  },
  {
   "cell_type": "markdown",
   "metadata": {},
   "source": [
    "Inspecting {numref}`fig:lec4:ex1:bode`, we realize that $\\omega_c = 5$ if $K_{\\text{dB}} = 22$ dB. Similarly, $\\omega_c = 15$ if $K_{\\text{dB}} = 48$ dB. The resulting Bode plots of $G_o(s)$ are repoted in {numref}`fig:lec4:ex1:bode-sol`.\n",
    "\n",
    "```{figure} res/ex1-bode-sol-mag.svg\n",
    "---\n",
    "width: 750px\n",
    "name: fig:lec4:ex1:bode-sol\n",
    "---\n",
    "Bode plot of $G_o(s)$ for $K_{\\text{dB}} = 22$ dB (blue line) and for $K_{\\text{dB}} = 48$ dB (red line).\n",
    "```"
   ]
  },
  {
   "cell_type": "markdown",
   "metadata": {},
   "source": [
    "Therefore, the range of gains statisfying the bandwidth requirement is\n",
    "\n",
    "$$\n",
    "12.6 \\leq K \\leq  250\n",
    "$$"
   ]
  },
  {
   "cell_type": "markdown",
   "metadata": {},
   "source": [
    "As for the phase, $\\angle G_o(i \\omega) = \\angle G(i \\omega)$ for any $K > 0$. Therefore, the phase margin $\\varphi_m$ is bigger than $45^\\circ$ as long as at the critical frequency $\\omega_c$, the phase satisfies $\\angle G(i \\omega_c) > -135^\\circ$.\n",
    "\n",
    "Inspecting {numref}`fig:lec4:ex1:bode`, we can see that this is the case as long as $\\omega_c > 8$ rad/s. This condition on the critical frequency is satisfied for $K_{\\text{dB}} > 28 $ dB, hence\n",
    "\n",
    "$$\n",
    "K \\geq 25\n",
    "$$\n",
    "\n",
    "**Solution**: Any $K$ in the range $25 \\leq K \\leq 250$ satisfies the requirements."
   ]
  },
  {
   "cell_type": "markdown",
   "metadata": {},
   "source": [
    "#### Question 2\n",
    "\n",
    "As seen during the lecture F6, the closed-loop resonance peak satisfies\n",
    "\n",
    "$$\n",
    "M_p \\leq \\frac{1}{2 \\sin\\left( \\frac{\\varphi_m}{2} \\right)}\n",
    "$$ \n",
    "\n",
    "The worst-case resonance peak happens at the minimum phase margin, $\\varphi_m = 45^\\circ$, at which $M_p = 1.3$."
   ]
  }
 ],
 "metadata": {
  "kernelspec": {
   "display_name": "MATLAB Kernel",
   "language": "matlab",
   "name": "jupyter_matlab_kernel"
  },
  "language_info": {
   "file_extension": ".m",
   "mimetype": "text/x-matlab",
   "name": "matlab"
  }
 },
 "nbformat": 4,
 "nbformat_minor": 2
}
