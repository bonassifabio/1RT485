{
 "cells": [
  {
   "cell_type": "markdown",
   "metadata": {},
   "source": [
    "(ref:lec4:ex3)=\n",
    "# Exercise 4.3"
   ]
  },
  {
   "cell_type": "markdown",
   "metadata": {},
   "source": [
    "```{figure} res/ex3.svg\n",
    "---\n",
    "height: 170\n",
    "name: fig:lec4:ex3\n",
    "---\n",
    "Block diagram of the DC-servomotor.\n",
    "```"
   ]
  },
  {
   "cell_type": "markdown",
   "metadata": {},
   "source": [
    "In {numref}`fig:lec4:ex3` the block diagram of a DC-servomotor is illustrated. \n",
    "\n",
    "In this system, the input voltage $u$ first goes through a [isolated DC-DC convert](https://en.wikipedia.org/wiki/DC-to-DC_converter)[^dc-dc], which applies the desired voltage $u$ to the motor.\n",
    "This converter is modeled by the first-order transfer function $G_2(s) = \\frac{1}{1+sT}$, where $T=10$ ms is the converter's time constant.\n",
    "\n",
    "The voltage is then applied to the motor, described by the transfer function $G_1(s) = \\frac{10}{s(1+s T_1)(1+s T_2)}$, where $T_1 =25$ ms is the electric time constant and $T_2 = 50$ ms is the mechanical time constant.\n",
    "\n",
    "The servomotor is first tested with $F(s) = 1$, but the closed-loop turns out to be too slow. \n",
    "\n",
    "1. Find $F(s) = K$ so thatthe closed-loop is twice as fast as for $F(s)=1$.\n",
    "2. Then, find $K$ so that the following accuracy requirements are sastisfied:\n",
    "   - When $\\theta_{ref}(t) = \\textrm{step}(t)$, at steady state $\\lvert \\theta -  \\theta_{ref} \\lvert \\leq 0.001$\n",
    "   - When $\\theta_{ref}(t) = 10 \\cdot \\textrm{ramp}(t)$, at steady state $\\lvert \\theta(t) -  \\theta_{ref}(t)\\leq  \\lvert 0.01$\n"
   ]
  },
  {
   "cell_type": "markdown",
   "metadata": {},
   "source": [
    "---"
   ]
  },
  {
   "cell_type": "markdown",
   "metadata": {},
   "source": [
    "## Solution\n",
    "\n",
    "*To be uploaded*"
   ]
  },
  {
   "cell_type": "markdown",
   "metadata": {},
   "source": []
  },
  {
   "cell_type": "markdown",
   "metadata": {},
   "source": [
    "\n",
    "\n",
    "[^dc-dc]: A DC-DC isolated converter is an electronic device that applies the desired control signal  $u$  to the motor while keeping the controller board electrically insulated from the high-current/high-voltage motor circuit."
   ]
  }
 ],
 "metadata": {
  "language_info": {
   "name": "python"
  }
 },
 "nbformat": 4,
 "nbformat_minor": 2
}
