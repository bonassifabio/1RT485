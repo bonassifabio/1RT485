{
 "cells": [
  {
   "cell_type": "markdown",
   "metadata": {},
   "source": [
    "# Exercise 1.3"
   ]
  },
  {
   "cell_type": "markdown",
   "metadata": {},
   "source": [
    "Assume that the DC motor described in {ref}`ref:lec1:ex2` is controlled by a **Proportional (P)** controller.\n",
    "\n",
    "1. Sketch the block diagram of the control system. Determine how the poles of the closed-loop depend on the proportional gain $K$, and discuss what this means for the behavior of the closed-loop.\n",
    "2. Consider two reference signals, a step $\\theta_{ref}(t) = \\textrm{step}(t)$ and a ramp $\\theta_{ref}(t) = \\textrm{ramp}(t)$. What is the steady-state controll error (or output tracking error) in these two cases?\n",
    "3. Consider now a **Proportional Integral (PI)** controller. What will the steady-state error be if the reference signal is a ramp?"
   ]
  },
  {
   "cell_type": "markdown",
   "metadata": {},
   "source": [
    "---"
   ]
  },
  {
   "cell_type": "markdown",
   "metadata": {},
   "source": [
    "## Solution"
   ]
  },
  {
   "cell_type": "markdown",
   "metadata": {},
   "source": [
    "As shown in {ref}`ref:lec1:ex1`, the transfer function of the motor is\n",
    "\n",
    "$$\n",
    "G(s) = \\frac{k_o}{s(s+\\alpha)}\n",
    "$$\n",
    "\n",
    "The open-loop transfer function is defined as\n",
    "\n",
    "$$\n",
    "G_o(s) = \\frac{\\Theta(s)}{\\Theta_{ref}(s)} = F(s) \\cdot G(s)\n",
    "$$\n",
    "\n",
    "where $\\Theta_{ref}(s)$ is the reference signal, and $F(s)$ is the controller.\n",
    "\n",
    "We now compute the **closed-loop transfer function** as\n",
    "\n",
    "$$\n",
    "    \\Theta(s) = G(s) F(s) \\underbrace{(\\Theta_{ref}(s) - \\Theta(s))}_{\\text{Error $E(s)$}} \\quad \\Rightarrow \\quad \\Theta(s) = \\frac{F(s)G(s)}{1 + F(s) G(s)} \\Theta_{ref}(s) = \\frac{G_o(s)}{1+G_o(s)} \\Theta_{ref}(s)\n",
    "$$"
   ]
  },
  {
   "cell_type": "markdown",
   "metadata": {},
   "source": [
    "### Question 1\n"
   ]
  },
  {
   "cell_type": "markdown",
   "metadata": {},
   "source": [
    "We start by considering a proportional controller, $F(s) = K$, where **$K$ is the proportional gain**."
   ]
  },
  {
   "cell_type": "markdown",
   "metadata": {},
   "source": [
    "In this case, the closed loop transfer function is\n",
    "\n",
    "$$\n",
    "G_{c}(s) = \\frac{K \\cdot \\frac{k_o}{s(s+\\alpha)}}{1+K \\cdot \\frac{k_o}{s(s+\\alpha)}} = \\frac{k_o K}{s^2 + \\alpha s +k_o K}\n",
    "$$"
   ]
  },
  {
   "cell_type": "markdown",
   "metadata": {},
   "source": [
    "The closed-loop poles are the poles of $G_c(s)$. We hence need to find the roots of the denominator of $G_c(s)$:\n",
    "\n",
    "$$\n",
    "s^2 + \\alpha s + k_o K = 0\n",
    "$$"
   ]
  },
  {
   "cell_type": "markdown",
   "metadata": {},
   "source": [
    "We solve this equation by $s$. The discriminant is $\\Delta = {\\alpha^2 - 4 k_o K}$.\n",
    "\n",
    "Now, there are two relevant cases."
   ]
  },
  {
   "cell_type": "markdown",
   "metadata": {},
   "source": [
    "#### Case $\\Delta \\geq 0$ "
   ]
  },
  {
   "cell_type": "markdown",
   "metadata": {},
   "source": [
    "When $K \\geq \\frac{\\alpha^2}{4 k_o}$ the discriminant is positive, which means that there exist **two real poles**:\n",
    "\n",
    "$$\n",
    "s = \\frac{-\\alpha  \\pm \\sqrt{\\Delta}}{2}\n",
    "$$"
   ]
  },
  {
   "cell_type": "markdown",
   "metadata": {},
   "source": [
    "These poles are stable as long as both of them are strictly negative. \n",
    "\n",
    "- $- \\alpha - \\sqrt{\\Delta} < 0 \\quad \\rightarrow \\quad  \\sqrt{\\Delta} > -\\alpha$\n",
    "- $- \\alpha + \\sqrt{\\Delta} < 0 \\quad \\rightarrow \\quad  \\sqrt{\\Delta} < \\alpha$\n",
    "\n"
   ]
  },
  {
   "cell_type": "markdown",
   "metadata": {},
   "source": [
    "The first is always satisfied as long as $\\Delta \\geq 0$. \n",
    "When it comes to the second one, under the condition $\\Delta \\geq 0$ we can square both sides since $\\alpha > 0$.\n",
    "\n",
    "This way, we get the following system of inequalities\n",
    "\n",
    "$$\n",
    "\\left\\{\\begin{array}{l} \n",
    "    K \\geq \\frac{\\alpha^2}{4 k_o} \\\\\n",
    "    \\alpha^2 - 4 k_o K < \\alpha^2\n",
    "\\end{array} \\right. \\Rightarrow \\left\\{\\begin{array}{l} \n",
    "    K \\geq \\frac{\\alpha^2}{4 k_o} \\\\\n",
    "     K > 0\n",
    "\\end{array} \\right.  \\Rightarrow K \\geq \\frac{\\alpha^2}{4 k_o}\n",
    "$$"
   ]
  },
  {
   "cell_type": "markdown",
   "metadata": {},
   "source": [
    "#### Case $\\Delta < 0$"
   ]
  },
  {
   "cell_type": "markdown",
   "metadata": {},
   "source": [
    "When $K < \\frac{\\alpha^2}{4 k_o}$ the discriminant is negative, which means that we have two complex conjugate poles.\n",
    "\n",
    "In this case, it is easy to notice that\n",
    "\n",
    "$$\n",
    "    s = -\\frac{\\alpha}{2} \\pm i \\frac{\\sqrt{\\lvert \\Delta \\lvert}}{2}\n",
    "$$"
   ]
  },
  {
   "cell_type": "markdown",
   "metadata": {},
   "source": [
    "In this case the real part of these eigenvalues is $-\\frac{\\alpha}{2} < 0$ regardless of $K$. Therefore, any $K < \\frac{\\alpha^2}{4 k_o}$ makes the closed-loop stable."
   ]
  },
  {
   "cell_type": "markdown",
   "metadata": {},
   "source": [
    "#### Solution to Question 1\n",
    "The overall solution is given by the union of the solutions in the two cases:\n",
    "\n",
    "$$ \n",
    " \\left\\{ K \\geq \\frac{\\alpha^2}{4 k_o} \\cup K < \\frac{\\alpha^2}{4 k_o} \\right\\} = \\mathbb{R}\n",
    "$$"
   ]
  },
  {
   "cell_type": "markdown",
   "metadata": {},
   "source": [
    "```{note}\n",
    "An alternative (and faster) approach to solve the problem would be to use the so-called Routh criterion!\n",
    "```"
   ]
  },
  {
   "cell_type": "markdown",
   "metadata": {},
   "source": [
    "Finally, we can visualize how the closed-loop poles move in the complex plane as a function of $K$ by inspecting the root locus. We will plot the root locus with MATLAB assuming $k_o = 1$ and $\\alpha=1$."
   ]
  },
  {
   "cell_type": "code",
   "execution_count": null,
   "metadata": {},
   "outputs": [],
   "source": []
  },
  {
   "cell_type": "markdown",
   "metadata": {},
   "source": []
  }
 ],
 "metadata": {
  "kernelspec": {
   "display_name": "MATLAB Kernel",
   "language": "matlab",
   "name": "jupyter_matlab_kernel"
  },
  "language_info": {
   "codemirror_mode": "octave",
   "file_extension": ".m",
   "mimetype": "text/x-octave",
   "name": "matlab",
   "nbconvert_exporter": "",
   "pygments_lexer": "octave",
   "version": "8.4.0"
  }
 },
 "nbformat": 4,
 "nbformat_minor": 2
}
