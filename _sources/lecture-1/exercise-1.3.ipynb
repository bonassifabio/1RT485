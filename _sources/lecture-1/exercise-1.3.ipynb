{
 "cells": [
  {
   "cell_type": "markdown",
   "metadata": {},
   "source": [
    "# Exercise 1.3"
   ]
  },
  {
   "cell_type": "markdown",
   "metadata": {},
   "source": [
    "Assume that the DC motor described in {ref}`ref:lec1:ex2` is controlled by a **Proportional (P)** controller.\n",
    "\n",
    "1. Sketch the block diagram of the control system. Determine how the poles of the closed-loop depend on the proportional gain $K$, and discuss what this means for the behavior of the closed-loop.\n",
    "2. Consider two reference signals, a step $\\theta_{ref}(t) = \\textrm{step}(t)$ and a ramp $\\theta_{ref}(t) = \\textrm{ramp}(t)$. What is the steady-state controll error (or output tracking error) in these two cases?\n",
    "3. Consider now a **Proportional Integral (PI)** controller. What will the steady-state error be if the reference signal is a ramp?"
   ]
  },
  {
   "cell_type": "markdown",
   "metadata": {},
   "source": [
    "---"
   ]
  }
 ],
 "metadata": {
  "kernelspec": {
   "display_name": "MATLAB Kernel",
   "language": "matlab",
   "name": "jupyter_matlab_kernel"
  },
  "language_info": {
   "codemirror_mode": "octave",
   "file_extension": ".m",
   "mimetype": "text/x-octave",
   "name": "matlab",
   "nbconvert_exporter": "",
   "pygments_lexer": "octave",
   "version": "8.4.0"
  }
 },
 "nbformat": 4,
 "nbformat_minor": 2
}
