{
 "cells": [
  {
   "cell_type": "markdown",
   "metadata": {},
   "source": [
    "(ref:lec1:ex1)=\n",
    "# Exercise 1.1\n"
   ]
  },
  {
   "cell_type": "markdown",
   "metadata": {},
   "source": [
    "```{figure} res/ex1.png\n",
    ":align: center\n",
    "\n",
    "Schematic of the motor (courtesy of [*Exercise Manual for Automatic Control*](https://uppsala.instructure.com/courses/102131/files/7991063?module_item_id=1296223))\n",
    "```"
   ]
  },
  {
   "cell_type": "markdown",
   "metadata": {},
   "source": [
    "The scheme above is a DC motor  characterized by the following physical relationships. The rotating axis is described by \n",
    "\n",
    "$$J\\ddot{\\theta} = -f\\dot{\\theta} + M,$$\n",
    "\n",
    "where $\\theta$ is the angle of rotation, $M$ is the torque, $J$ is the angular momentum, and $f$ is the frictional coefficient. \n",
    "\n",
    "The torque is related to the stator current by the following relationship\n",
    "\n",
    "$$M = k_a i$$\n",
    "\n",
    "where $i$ is the stator current and  $k_a$ is a proportional constant characteristic for the motor. In addition, \n",
    "\n",
    "$$v = k_v\\dot{\\theta}$$\n",
    "\n",
    "where $v$ is the induced voltage and $k_v$ is a proportional constant. \n",
    "\n",
    "Let the input voltage $u$ be the control signal and $\\theta$ be the output. \n",
    "\n",
    "1. Write a differential equation that relates $u$ and $\\theta$ (the inductance $L_a$ can be neglected). \n",
    "2. Determine the transfer function  between the input and the output. \n",
    "3. Discuss the behavior of the system by calculating step response of the system. That is, $\\theta(t)$ when $u = \\textrm{step}(t)$."
   ]
  },
  {
   "cell_type": "markdown",
   "metadata": {},
   "source": [
    "----"
   ]
  },
  {
   "cell_type": "markdown",
   "metadata": {},
   "source": [
    "## Solution\n",
    "\n",
    "Let's start by noting that $V_L(t) = L_a \\frac{di}{dt}$ corresponds, in the Laplace domain, to $V_L(s) = L_a s I(s)$, where $s$ is the Laplace operator. Similarly, the induced voltage is $v(t) = k_v \\dot{\\theta}(t)$, which means $V(s) = k_v s \\Theta(s)$.\n",
    "\n",
    "### Question 1\n",
    "From the Ohm's law, we have that $U(s) = R_a I(s) + L_a s I(s) + k_v s \\Theta(s)$.\n",
    "Solving by $I(s)$, and recalling that $L_a = 0$, we get\n",
    "\n",
    "$$\n",
    "I(s) = \\frac{U(s)}{R_a} - \\frac{k_v s}{R_a} \\Theta(s)\n",
    "$$\n"
   ]
  },
  {
   "cell_type": "markdown",
   "metadata": {},
   "source": [
    "### Question 2\n",
    "From the momentum balance, \n",
    "\n",
    "$$\n",
    "J s^2 \\Theta(s) = -f_s \\Theta(s) + M(s) =  -f_s \\Theta(s)  + k_a I(s)\n",
    "$$\n",
    "\n",
    "Replacing the expression of $I(s)$ we get\n",
    "\n",
    "$$\n",
    "J s^2 \\Theta(s) + f_s \\Theta(s) =  k_a \\left( \\frac{U(s)}{R_a} - \\frac{k_v s}{R_a}\\Theta(s) \\right)\n",
    "$$\n",
    "\n",
    "We then isolate $\\Theta(s)$:\n",
    "\n",
    "$$\n",
    "\\Theta(s) = \\frac{\\frac{k_a}{R_a}}{s^2 J + \\left(f_s + \\frac{k_a k_v}{R_a}\\right)s} U(s)\n",
    "$$\n",
    "\n",
    "The transfer function is therefore\n",
    "\n",
    "$$\n",
    "\\Theta(s) =  \\frac{k_o}{s \\left(s + \\alpha\\right)} U(s)\n",
    "$$ (eq:lec1:ex1:theta)\n",
    "\n",
    "where $k_o = \\frac{k_a}{R_a J}$ and  $\\alpha = \\frac{f_s + \\frac{k_a k_v}{R_a}}{J}$."
   ]
  },
  {
   "cell_type": "markdown",
   "metadata": {},
   "source": [
    "**Note**: the ODE describing the evolution of the angle can be derived as\n",
    "\n",
    "$$s(s+\\alpha) \\Theta(s) = k_o U(s) \\quad \\rightarrow \\quad \\frac{d^2}{d t^2} \\theta(t) + \\alpha \\frac{d}{d t} \\theta(t) = k_o u(t)$$"
   ]
  },
  {
   "cell_type": "markdown",
   "metadata": {},
   "source": [
    "### Question 3"
   ]
  },
  {
   "cell_type": "markdown",
   "metadata": {},
   "source": [
    "We can get a qualitative idea of the step response  by looking at the static gain and poles of the transfer function {eq}`eq:lec1:ex1:theta`."
   ]
  },
  {
   "cell_type": "markdown",
   "metadata": {},
   "source": [
    "We compute the **poles** as the roots of the denominator, i.e. by solving $s(s+\\alpha) = 0$. We have two poles:\n",
    "\n",
    "- $s=-\\alpha < 0$, which is stable.\n",
    "- $s = 0$, which is only marginally stable. This pole is due to the fact that the angular position $\\theta(t)$ is the integral of the angular velocity $\\dot{\\theta}(t)$. In the Laplace domain, this corresponds to $\\Theta(s) = \\frac{1}{s} \\dot{\\Theta}(s)$.\n",
    "\n",
    "Because the assumption of the Final Value Theorem are **not satisfied** (not all the poles are stable, that is, not all the poles have strictly negative real part), **we cannot apply it** to compute $\\lim_{t \\to \\infty} \\theta(t)$."
   ]
  },
  {
   "cell_type": "markdown",
   "metadata": {},
   "source": [
    "Whether such a limit exists and is finite depends on the specific input $u(t)$ applied to the system. We can get the output by computing the output $\\Theta(s)$ in the Laplace domain, and then anti-transforming it to get $\\theta(t)$."
   ]
  },
  {
   "cell_type": "markdown",
   "metadata": {},
   "source": [
    "Noting that $U(s) = \\mathcal{L} \\left[ \\textrm{step}(t) \\right] = \\frac{1}{s}$, we get\n",
    "\n",
    "$$\n",
    "\\Theta(s) = \\frac{k_o}{s(s+\\alpha)} \\frac{1}{s} = \\frac{k_o}{s^2(s+\\alpha)}\n",
    "$$\n",
    "\n",
    "We then decompose it into the sum of simpler rational transfer functions\n",
    "\n",
    "$$\n",
    "\\Theta(s) = \\frac{A}{s} + \\frac{B}{s} + \\frac{C}{s+\\alpha}\n",
    "$$\n",
    "\n",
    "The values of $A$, $B$, and $C$ are found equating the two expressions of $\\Theta(s)$:\n",
    "\n",
    "$$\n",
    "\\frac{A}{s} + \\frac{B}{s^2} + \\frac{C}{s+\\alpha} = \\frac{As(s+\\alpha) + B(s+\\alpha) + C s^2}{s^2(s+\\alpha)} = \\frac{(A+C)s^2 + (A \\alpha + B)s + B \\alpha}{s^2(s+\\alpha)} = \\frac{k_o}{s^2(s+\\alpha)}\n",
    "$$\n",
    "\n",
    "$A$, $B$, and $C$ can be found by comparing the coefficients of the polynomial at the numerator, which results in a linear system of equations\n",
    "\n",
    "$$\n",
    "\\left\\{ \\begin{array}{l}\n",
    "    A + C = 0 \\\\\n",
    "    A \\alpha + B = 0 \\\\\n",
    "    B \\alpha = k_o \\end{array} \\right. \\quad \\Rightarrow \\quad A = - \\frac{k_o}{\\alpha^2}, B = \\frac{k_o}{\\alpha}, C = \\frac{k_o}{\\alpha^2}\n",
    "$$"
   ]
  },
  {
   "cell_type": "markdown",
   "metadata": {},
   "source": [
    "We can therefore re-write $\\Theta(s)$ as \n",
    "\n",
    "$$\n",
    "\\Theta(s) = \\frac{A}{s} + \\frac{B}{s^2} + \\frac{C}{s+\\alpha}\n",
    "$$\n",
    "\n",
    "This allows us to easily anti-transform $\\Theta(s)$\n",
    "\n",
    "$$\n",
    "\\begin{aligned}\n",
    "\\theta(t) =& \\mathcal{L}^{-1}\\left[ \\Theta(s)  \\right] = \\mathcal{L}^{-1}\\left[ \\frac{A}{s}  \\right] + \\mathcal{L}^{-1}\\left[ \\frac{B}{s^2}  \\right] + \\mathcal{L}^{-1}\\left[ \\frac{C}{s+\\alpha}  \\right]\\\\\n",
    "=& A \\cdot \\textrm{step}(t) + B \\cdot \\textrm{ramp}(t) + C \\cdot e^{-\\alpha t} \\textrm{step}(t)\n",
    "\\end{aligned}\n",
    "$$"
   ]
  },
  {
   "cell_type": "markdown",
   "metadata": {},
   "source": [
    "Note that $\\lim_{t \\to \\infty} \\theta(t) = \\infty$."
   ]
  },
  {
   "cell_type": "markdown",
   "metadata": {},
   "source": [
    "Let's use MATLAB (Octave) to plot the step response (we will take $\\alpha=1$ and $k_o=1$ since numerical values are not provided in the text of the exercise)."
   ]
  },
  {
   "cell_type": "code",
   "execution_count": 7,
   "metadata": {},
   "outputs": [],
   "source": [
    "% Check if we are running in Octave or MATLAB\n",
    "if exist('OCTAVE_VERSION', 'builtin')\n",
    "    pkg load control; warning('off', 'all');\n",
    "    if isempty(getenv('BINDER_SERVICE_HOST')); t = 'notebook'; else; t = 'plotly'; end\n",
    "    graphics_toolkit(t);\n",
    "end"
   ]
  },
  {
   "cell_type": "code",
   "execution_count": null,
   "metadata": {},
   "outputs": [
    {
     "data": {
      "application/vnd.plotly.v1+json": {
       "data": [
        {
         "line": {
          "color": "rgb(0,113,188)",
          "dash": "solid",
          "width": 0.5
         },
         "marker": {
          "color": "rgb(0,113,188)",
          "line": {
           "color": "rgb(0,113,188)"
          },
          "size": 6,
          "symbol": "none"
         },
         "mode": "lines",
         "name": "",
         "showlegend": false,
         "type": "scatter",
         "visibility": true,
         "x": [
          0,
          0.06,
          0.12,
          0.18,
          0.24,
          0.3,
          0.36,
          0.42,
          0.48,
          0.54,
          0.6,
          0.6599999999999999,
          0.72,
          0.78,
          0.84,
          0.8999999999999999,
          0.96,
          1.02,
          1.08,
          1.14,
          1.2,
          1.26,
          1.3199999999999998,
          1.38,
          1.44,
          1.5,
          1.56,
          1.6199999999999999,
          1.68,
          1.74,
          1.7999999999999998,
          1.8599999999999999,
          1.92,
          1.98,
          2.04,
          2.1,
          2.16,
          2.2199999999999998,
          2.28,
          2.34,
          2.4,
          2.46,
          2.52,
          2.58,
          2.6399999999999997,
          2.6999999999999997,
          2.76,
          2.82,
          2.88,
          2.94,
          3,
          3.06,
          3.12,
          3.1799999999999997,
          3.2399999999999998,
          3.3,
          3.36,
          3.42,
          3.48,
          3.54,
          3.5999999999999996,
          3.6599999999999997,
          3.7199999999999998,
          3.78,
          3.84,
          3.9,
          3.96,
          4.02,
          4.08,
          4.14,
          4.2,
          4.26,
          4.32,
          4.38,
          4.4399999999999995,
          4.5,
          4.56,
          4.62,
          4.68,
          4.74,
          4.8,
          4.859999999999999,
          4.92,
          4.9799999999999995,
          5.04,
          5.1,
          5.16,
          5.22,
          5.279999999999999,
          5.34,
          5.3999999999999995,
          5.46,
          5.52,
          5.58,
          5.64,
          5.7,
          5.76,
          5.819999999999999,
          5.88,
          5.9399999999999995,
          6
         ],
         "xaxis": "x",
         "y": [
          0,
          0.00176453358424871,
          0.006920436717157517,
          0.015270211411272026,
          0.026627861066553418,
          0.04081822068171788,
          0.05767632607103108,
          0.0770468198150568,
          0.09878339180614087,
          0.12274825237398969,
          0.14881163609402648,
          0.17685133449169932,
          0.20675225595997176,
          0.23840601130522368,
          0.27171052342907986,
          0.3065696597405993,
          0.34289288597511225,
          0.38059494017307854,
          0.41959552564493946,
          0.45981902181630424,
          0.5011942119122025,
          0.5436540264997708,
          0.5871353019658507,
          0.6315785530597569,
          0.6769277586821221,
          0.7231301601484301,
          0.7701360712007651,
          0.8178986990836151,
          0.8663739760394105,
          0.9155204006169974,
          0.965298888221587,
          1.015672630367998,
          1.0666069621303509,
          1.1180692373108936,
          1.1700287108784266,
          1.2224564282529826,
          1.2753251210380632,
          1.3286091088249588,
          1.3822842067155383,
          1.436327638230494,
          1.4907179532894135,
          1.5454349509673222,
          1.6004596067495334,
          1.6557740040228464,
          1.711361269556387,
          1.7672055127397506,
          1.8232917683596417,
          1.8796059427089404,
          1.936134762834135,
          1.9928657287383518,
          2.049787068367866,
          2.106887695219991,
          2.1641571684196954,
          2.221585655121176,
          2.27916389509899,
          2.3368831674012434,
          2.394735258944742,
          2.4527124349390235,
          2.5108074110327547,
          2.569013327082201,
          2.6273237224472967,
          2.6857325127263643,
          2.7442339678456955,
          2.8028226914250975,
          2.8614936013450945,
          2.920241911445809,
          2.979063114291616,
          3.0379529649395076,
          3.09690746565271,
          3.1559228515045166,
          3.2149955768204825,
          3.274122302410169,
          3.3332998835424488,
          3.3925253586210795,
          3.4517959385197567,
          3.5111089965382476,
          3.570462058943432,
          3.6298527960611926,
          3.68927901388707,
          3.748738646185479,
          3.8082297470490256,
          3.8677504838911423,
          3.927299130846794,
          3.9868740625575017,
          4.046473748318294,
          4.10609674656552,
          4.1657416996856576,
          4.225407329126444,
          4.285092430792702,
          4.344795870710298,
          4.404516580942614,
          4.464253555744816,
          4.524005847942091,
          4.5837725655187915,
          4.64355286840622,
          4.70334596545747,
          4.763151111598443,
          4.822967605144779,
          4.882794785275034,
          4.94263202965101,
          5.002478752176663
         ],
         "yaxis": "y"
        }
       ],
       "layout": {
        "height": 420,
        "hovermode": "closest",
        "margin": {
         "b": 0,
         "l": 0,
         "r": 0,
         "t": 0
        },
        "plot_bgcolor": "rgba(0,0,0,0)",
        "showlegend": false,
        "width": 560,
        "xaxis": {
         "anchor": "y",
         "autorange": false,
         "domain": [
          0.13,
          0.905
         ],
         "exponentformat": "none",
         "gridcolor": "rgba(38,38,38,0.15)",
         "gridwidth": 1,
         "linecolor": "rgb(38,38,38)",
         "linewidth": 1,
         "mirror": "ticks",
         "range": [
          0,
          6
         ],
         "showgrid": true,
         "showline": true,
         "side": "bottom",
         "spikedash": "solid",
         "spikemode": "across",
         "spikesides": false,
         "spikethickness": 1,
         "tickangle": 0,
         "tickcolor": "rgb(38,38,38)",
         "tickfont": {
          "color": "rgb(38,38,38)",
          "size": 10
         },
         "ticklen": 3,
         "ticks": "inside",
         "ticktext": [
          "0",
          "1",
          "2",
          "3",
          "4",
          "5",
          "6"
         ],
         "tickvals": [
          0,
          1,
          2,
          3,
          4,
          5,
          6
         ],
         "title": {
          "font": {
           "color": "rgb(38,38,38)",
           "size": 11
          },
          "text": "Time [s]"
         },
         "type": "linear",
         "visible": true,
         "zeroline": false
        },
        "yaxis": {
         "anchor": "x",
         "autorange": false,
         "domain": [
          0.11,
          0.9249999999999999
         ],
         "exponentformat": "none",
         "gridcolor": "rgba(38,38,38,0.15)",
         "gridwidth": 1,
         "linecolor": "rgb(38,38,38)",
         "linewidth": 1,
         "mirror": "ticks",
         "range": [
          -0.25012393760883356,
          5.252602689785497
         ],
         "showgrid": true,
         "showline": true,
         "side": "left",
         "spikedash": "solid",
         "spikemode": "across",
         "spikesides": false,
         "spikethickness": 1,
         "tickangle": 0,
         "tickcolor": "rgb(38,38,38)",
         "tickfont": {
          "color": "rgb(38,38,38)",
          "size": 10
         },
         "ticklen": 3,
         "ticks": "inside",
         "ticktext": [
          "0",
          "1",
          "2",
          "3",
          "4",
          "5"
         ],
         "tickvals": [
          0,
          1,
          2,
          3,
          4,
          5
         ],
         "title": {
          "font": {
           "color": "rgb(38,38,38)",
           "size": 11
          },
          "text": "y1"
         },
         "type": "linear",
         "visible": true,
         "zeroline": false
        }
       }
      }
     },
     "metadata": {},
     "output_type": "display_data"
    }
   ],
   "source": [
    "s = tf('s');\n",
    "G = 1 / (s * (s + 1));\n",
    "\n",
    "step(G);     % Get the step response of the transfer function G"
   ]
  },
  {
   "cell_type": "markdown",
   "metadata": {},
   "source": [
    "```{admonition} Remember\n",
    ":class: note\n",
    "Before applying the Final Value Theorem, always check that its assumptions are satisfied! \n",
    "```"
   ]
  }
 ],
 "metadata": {
  "kernelspec": {
   "display_name": "MATLAB Kernel",
   "language": "matlab",
   "name": "jupyter_matlab_kernel"
  },
  "language_info": {
   "codemirror_mode": "octave",
   "file_extension": ".m",
   "mimetype": "text/x-octave",
   "name": "matlab",
   "nbconvert_exporter": "",
   "pygments_lexer": "octave",
   "version": "8.4.0"
  }
 },
 "nbformat": 4,
 "nbformat_minor": 2
}
