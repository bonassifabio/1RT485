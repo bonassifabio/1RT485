{
 "cells": [
  {
   "cell_type": "markdown",
   "metadata": {},
   "source": [
    "(ref:lec1:ex1)=\n",
    "# Exercise 1.1\n"
   ]
  },
  {
   "cell_type": "markdown",
   "metadata": {},
   "source": [
    "```{figure} res/ex1.png\n",
    ":align: center\n",
    "\n",
    "Schematic of the motor (courtesy of [*Exercise Manual for Automatic Control*](https://uppsala.instructure.com/courses/102131/files/7991063?module_item_id=1296223))\n",
    "```"
   ]
  },
  {
   "cell_type": "markdown",
   "metadata": {},
   "source": [
    "The scheme above is a DC motor  characterized by the following physical relationships. The rotating axis is described by \n",
    "\n",
    "$$J\\ddot{\\theta} = -f\\dot{\\theta} + M,$$\n",
    "\n",
    "where $\\theta$ is the angle of rotation, $M$ is the torque, $J$ is the angular momentum, and $f$ is the frictional coefficient. \n",
    "\n",
    "The torque is related to the stator current by the following relationship\n",
    "\n",
    "$$M = k_a i$$\n",
    "\n",
    "where $i$ is the stator current and  $k_a$ is a proportional constant characteristic for the motor. In addition, \n",
    "\n",
    "$$V = k_v\\dot{\\theta}$$\n",
    "\n",
    "where $V$ is the induced voltage and $k_v$ is a proportional constant. \n",
    "\n",
    "Let the input voltage $u$ be the control signal and $\\theta$ be the output. \n",
    "\n",
    "1. Write a differential equation that relates $u$ and $\\theta$ (the inductance $L_a$ can be neglected). \n",
    "2. Determine the transfer function  between the input and the output. \n",
    "3. Discuss the behavior of the system by calculating step response of the system. That is, $\\theta(t)$ when $u = \\textrm{step}(t)$."
   ]
  },
  {
   "cell_type": "markdown",
   "metadata": {},
   "source": [
    "----"
   ]
  },
  {
   "cell_type": "markdown",
   "metadata": {},
   "source": [
    "## Solution\n",
    "\n",
    "Let's start by noting that $V_L(t) = L_a \\frac{di}{dt}$ corresponds, in the Laplace domain, to $V_L(s) = L_a s I(s)$, where $s$ is the Laplace operator.\n",
    "\n",
    "### Question 1\n",
    "From the Ohm's law,\n",
    "```{math}\n",
    "U(s) = R_a I(s) + L_a s I(s) + k_v s \\Theta(s)\n",
    "```\n",
    "Solving by $I(s)$, and recalling that $L_a = 0$, we get\n",
    "```{math}\n",
    "I(s) = \\frac{U(s)}{R_a} + \\frac{k_v s}{R_a} \\Theta(s)\n",
    "```\n"
   ]
  },
  {
   "cell_type": "markdown",
   "metadata": {},
   "source": [
    "### Question 2\n",
    "\n",
    "$$\n",
    "J s^2 \\Theta(s) = -f_s \\Theta(s) + M(s) =  -f_s \\Theta(s)  + k_a I(s)\n",
    "$$\n",
    "\n",
    "Or, equivalently,\n",
    "\n",
    "$$\n",
    "J s^2 \\Theta(s) + f_s \\Theta(s) =  k_a \\left( \\frac{U(s)}{R_a} + \\frac{k_v s}{R_a}\\Theta(s) \\right)\n",
    "$$\n",
    "\n",
    "Isolating $\\Theta(s)$ we get\n",
    "\n",
    "$$\n",
    "\\Theta(s) = \\frac{\\frac{k_a}{R_a}}{s^2 J + \\left(f_s - \\frac{k_a k_v}{R_a}\\right)s} U(s)\n",
    "$$\n",
    "\n",
    "The transfer function is therefore\n",
    "\n",
    "$$\n",
    "\\Theta(s) = \\cdot \\frac{K}{s \\left(s + \\alpha\\right)} U(s) \\quad \\text{where } K = \\frac{k_a}{R_a J} \\text{ and } \\alpha = \\frac{f_s - \\frac{k_a k_v}{R_a}}{J} \n",
    "$$"
   ]
  },
  {
   "cell_type": "markdown",
   "metadata": {},
   "source": [
    "Note: the ODE describing the evolution of the angle can be derived as\n",
    "\n",
    "$$s(s+\\alpha) \\Theta(s) = K U(s) \\quad \\rightarrow \\quad \\frac{d^2}{d t^2} \\theta(t) + \\alpha \\frac{d}{d t} \\theta(t) = K u(t)$$"
   ]
  },
  {
   "cell_type": "markdown",
   "metadata": {},
   "source": [
    "### Question 3"
   ]
  },
  {
   "cell_type": "code",
   "execution_count": null,
   "metadata": {},
   "outputs": [],
   "source": []
  },
  {
   "cell_type": "markdown",
   "metadata": {},
   "source": []
  }
 ],
 "metadata": {
  "kernelspec": {
   "display_name": "MATLAB Kernel",
   "language": "matlab",
   "name": "jupyter_matlab_kernel"
  },
  "language_info": {
   "file_extension": ".m",
   "mimetype": "text/x-matlab",
   "name": "matlab"
  }
 },
 "nbformat": 4,
 "nbformat_minor": 2
}
