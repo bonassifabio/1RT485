{
 "cells": [
  {
   "cell_type": "markdown",
   "metadata": {},
   "source": [
    "(ref:lec3:ex1)=\n",
    "# Exercise 3.1"
   ]
  },
  {
   "cell_type": "markdown",
   "metadata": {},
   "source": [
    "Consider the following systems:\n",
    "\n",
    "1. $G(s) = \\frac{2}{s + 1}$\n",
    "\n",
    "2. $G(s) = \\frac{1}{s^3 + 1}$\n",
    "\n",
    "Let the input be $u(t) = \\sin(t)$. Compute, in the cases where it is meaningful, the output when the transients have disappeared."
   ]
  },
  {
   "cell_type": "markdown",
   "metadata": {},
   "source": [
    "---"
   ]
  },
  {
   "cell_type": "markdown",
   "metadata": {},
   "source": [
    "## Solution"
   ]
  },
  {
   "cell_type": "markdown",
   "metadata": {},
   "source": [
    "According to the **Frequency Response Theorem**, if $G(s)$ is stable then any sinusoidal input $u(t)=A \\sin(\\omega t)$ leads (asymptotically) to the sinusoidal output\n",
    "\n",
    "$$\n",
    "y(t) = A \\lvert G(i \\omega) \\lvert \\cdot \\sin(\\omega t + \\angle G(i \\omega))\n",
    "$$\n",
    "\n",
    "Note that\n",
    "- The sinusoidal output has the same frequency $\\omega$ as the input\n",
    "- The sinusoidal input gets amplified (or attenuated) by a factor equal to the magnitude of $G(s)$ at frequency $\\omega$, i.e., $\\lvert G(i \\omega) \\lvert$\n",
    "- The sinusoidal input gets shifted by the phase of $G(s)$ at frequency $\\omega$, i.e., $\\angle G(i \\omega)$"
   ]
  },
  {
   "cell_type": "markdown",
   "metadata": {},
   "source": [
    "### System 1"
   ]
  },
  {
   "cell_type": "markdown",
   "metadata": {},
   "source": [
    "The system $G(s) = \\frac{2}{s+1}$ is stable (there is one pole in $s = -1$), therefore we can apply the Frequency Response Theorem.\n",
    "\n",
    "$$\n",
    "G(i \\omega) = \\frac{2}{i \\omega + 1} = \\frac{2}{i \\omega + 1} \\cdot \\frac{-i \\omega + 1}{-i \\omega + 1} = \\frac{-i 2 \\omega + 2}{-i^2 \\omega^2 + 1} = \\frac{2}{1 + \\omega^2} - i \\frac{2 \\omega}{1 + \\omega^2}\n",
    "$$\n",
    "\n",
    "The input has frequency $\\omega = 1$. We therefore first compute $G(i 1)$, and then its modulus and phase.\n",
    "\n",
    "$$\n",
    "G(i 1) = 1 - i1\n",
    "$$\n",
    "\n",
    "$$\n",
    "\\lvert G(i1) \\lvert = \\sqrt{1^2 +(-1)^2} = \\sqrt{2}\n",
    "$$\n",
    "\n",
    "$$\n",
    "\\angle G(i1) = \\textrm{atan2}(-1, 1) = - \\frac{\\pi}{4}\n",
    "$$"
   ]
  },
  {
   "cell_type": "markdown",
   "metadata": {},
   "source": [
    "The asymptotic output signal is therefore\n",
    "\n",
    "$$\n",
    "y(t) = \\sqrt{2} \\sin \\left(t - \\frac{\\pi}{4} \\right)\n",
    "$$"
   ]
  },
  {
   "cell_type": "markdown",
   "metadata": {},
   "source": [
    "### System 2"
   ]
  },
  {
   "cell_type": "markdown",
   "metadata": {},
   "source": [
    "First, we have to compute the poles of $G(s) = \\frac{1}{s^3 + 1}$ to make sure that it is stable.\n",
    "\n",
    "To compute the poles, we look for the roots of $s^3 + 1 = 0$. Realizing that it's a [sum of cubes](https://en.wikipedia.org/wiki/Sum_of_two_cubes), we can factorize the left-hand side as\n",
    "\n",
    "$$\n",
    "(s + 1)(s^2 + 1 - s) = 0\n",
    "$$\n",
    "\n",
    "Therefore, the poles are\n",
    "- $s = -1$\n",
    "- $s = \\frac{-1 \\pm \\sqrt{5}}{2}$\n",
    "\n",
    "Unfortunately, one of the poles $\\left( s = \\frac{-1 + \\sqrt{5}}{2} \\right)$ has positive real part $\\to$ unstable!\n",
    "In this case, **we cannot apply the Frequency Response Theorem.**"
   ]
  },
  {
   "cell_type": "markdown",
   "metadata": {},
   "source": [
    "```{warning}\n",
    "When applying the Frequency Response Theorem, don't forget to first check the stability of the system!\n",
    "```"
   ]
  },
  {
   "cell_type": "markdown",
   "metadata": {},
   "source": []
  }
 ],
 "metadata": {
  "kernelspec": {
   "display_name": "MATLAB Kernel",
   "language": "matlab",
   "name": "jupyter_matlab_kernel"
  },
  "language_info": {
   "name": "matlab"
  }
 },
 "nbformat": 4,
 "nbformat_minor": 2
}
