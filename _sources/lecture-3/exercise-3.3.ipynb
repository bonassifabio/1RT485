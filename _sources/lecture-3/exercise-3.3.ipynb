{
 "cells": [
  {
   "cell_type": "markdown",
   "metadata": {},
   "source": [
    "(ref:lec3:ex3)=\n",
    "# Exercise 3.3"
   ]
  },
  {
   "cell_type": "markdown",
   "metadata": {},
   "source": [
    "A vehicle is characterized by the following transfer function, which relates the throttle input  $U(s)$  to the velocity  $Y(s)$,\n",
    "\n",
    "$$\n",
    "G(s) = \\frac{s+10}{(s+0.1)^2(s+5)}\n",
    "$$\n",
    "\n",
    "We need to design a controller that regulates the speed of the vehicle.\n",
    "\n",
    "1. Start by designing a proportional controller $F(s) = K$. For what values of $K$ is the closed-loop stable? How does the closed-loop performance change when $K$ is changed?\n",
    "2. Consider now $K=10$. Compute the **gain margin** $g_m$ and the **phase margin** $\\varphi_m$.\n",
    "\n",
    "---"
   ]
  },
  {
   "cell_type": "markdown",
   "metadata": {},
   "source": [
    "*Solutions to be uploaded*"
   ]
  },
  {
   "cell_type": "markdown",
   "metadata": {},
   "source": []
  }
 ],
 "metadata": {
  "kernelspec": {
   "display_name": "MATLAB Kernel",
   "language": "matlab",
   "name": "jupyter_matlab_kernel"
  },
  "language_info": {
   "file_extension": ".m",
   "mimetype": "text/x-matlab",
   "name": "matlab"
  }
 },
 "nbformat": 4,
 "nbformat_minor": 2
}
