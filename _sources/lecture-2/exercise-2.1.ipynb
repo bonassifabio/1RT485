{
 "cells": [
  {
   "cell_type": "markdown",
   "metadata": {},
   "source": [
    "(ref:lec2:ex1)=\n",
    "# Exercise 2.1\n"
   ]
  },
  {
   "cell_type": "markdown",
   "metadata": {},
   "source": [
    "```{figure} res/ex1a.png\n",
    "---\n",
    "height: 400px\n",
    "name: fig:lec2:ex1:rlocus\n",
    "---\n",
    "Root Locus plot\n",
    "```\n",
    "\n",
    "We want to design a proportional controller for a tooling machine.\n",
    "In the {ref}`fig:lec2:ex1:rlocus`, the poles of the closed-loop system are drawn as a function of the controller gain $K$. "
   ]
  },
  {
   "cell_type": "markdown",
   "metadata": {},
   "source": [
    "Use the {ref}`fig:lec2:ex1:rlocus` to specify what values of $K$ have been used to generate the step responses depicted in the figure below.\n",
    "\n",
    "```{figure} res/ex1b.png\n",
    "---\n",
    "height: 400px\n",
    "name: fig:lec2:ex1:resp\n",
    "---\n",
    "Closed-loop step responses\n",
    "```"
   ]
  },
  {
   "cell_type": "markdown",
   "metadata": {},
   "source": [
    "---"
   ]
  },
  {
   "cell_type": "markdown",
   "metadata": {},
   "source": [
    "## Solution"
   ]
  },
  {
   "cell_type": "markdown",
   "metadata": {},
   "source": [
    "- Plot 1 corresponds to an over-damped closed-loop response, as no oscillation is visible. This implies that the closed-loop poles are real-valued. Looking at the {ref}`fig:lec2:ex1:rlocus`, the closed-loop eigenvalues are negative real-valued for $0 < K \\leq 0.2$.\n",
    "- Plot 2 depicts an unstable and oscillatory closed-loop response, meaning that the closed-loop poles have a large imaginary part and a positive real part. From the {ref}`fig:lec2:ex1:rlocus` we can see that this is the case for $K > 11$.\n",
    "- Plot 3 depicts a marginally stable closed-loop response, i.e., the closed-loop poles have null real part. Therefore, this case corresponds to $K = 11$.\n",
    "- Plot 4 showns a stable, but oscillatory, closed-loop response. The  dominant closed-loop poles are complex conjugate. This case corresponds to $0.2 < K < 11$."
   ]
  }
 ],
 "metadata": {
  "language_info": {
   "name": "python"
  }
 },
 "nbformat": 4,
 "nbformat_minor": 2
}
