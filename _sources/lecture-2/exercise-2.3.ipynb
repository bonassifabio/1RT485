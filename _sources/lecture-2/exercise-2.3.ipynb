{
 "cells": [
  {
   "cell_type": "markdown",
   "metadata": {},
   "source": [
    "(ref:lec2:ex3)=\n",
    "# Exercise 2.3\n"
   ]
  },
  {
   "cell_type": "markdown",
   "metadata": {},
   "source": [
    "```{figure} res/ex3.svg\n",
    "---\n",
    "height: 200px\n",
    "name: fig:lec2:ex3\n",
    "---\n",
    "Closed-loop system\n",
    "```"
   ]
  },
  {
   "cell_type": "markdown",
   "metadata": {},
   "source": [
    "Depicted above is the block diagram of a closed-loop system.\n",
    "\n",
    "1. For what values of the controller parameter $K$ is the closed-loop stable?\n",
    "2. Is there any value of $K$ such that the closed-loop can track the reference signal $r(t) = 0.1 \\textrm{ramp}(t)$ with an error less than $5 \\cdot 10^{-3}$? "
   ]
  },
  {
   "cell_type": "markdown",
   "metadata": {},
   "source": [
    "---"
   ]
  },
  {
   "cell_type": "markdown",
   "metadata": {},
   "source": [
    "*Solution to be uploaded*"
   ]
  }
 ],
 "metadata": {
  "language_info": {
   "name": "python"
  }
 },
 "nbformat": 4,
 "nbformat_minor": 2
}
