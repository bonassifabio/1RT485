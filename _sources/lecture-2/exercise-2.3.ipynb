{
 "cells": [
  {
   "cell_type": "markdown",
   "metadata": {},
   "source": [
    "(ref:lec2:ex3)=\n",
    "# Exercise 2.3\n"
   ]
  },
  {
   "cell_type": "markdown",
   "metadata": {},
   "source": [
    "```{figure} res/ex3.svg\n",
    "---\n",
    "height: 200px\n",
    "name: fig:lec2:ex3\n",
    "---\n",
    "Closed-loop system\n",
    "```"
   ]
  },
  {
   "cell_type": "markdown",
   "metadata": {},
   "source": [
    "Depicted above is the block diagram of a closed-loop system.\n",
    "\n",
    "1. For what values of the controller parameter $K$ is the closed-loop stable?\n",
    "2. Is there any value of $K$ such that the closed-loop can track the reference signal $r(t) = 0.1 \\textrm{ramp}(t)$ with an error less than $5 \\cdot 10^{-3}$? "
   ]
  },
  {
   "cell_type": "markdown",
   "metadata": {},
   "source": [
    "---"
   ]
  },
  {
   "cell_type": "markdown",
   "metadata": {},
   "source": [
    "## Solutions\n",
    "\n",
    "### Question 1\n",
    "\n",
    "The open-loop transfer function of the system is \n",
    "\n",
    "$$\n",
    "G_o(s) = K \\frac{1}{s(s+1)(s+2)}\n",
    "$$\n",
    "\n",
    "The closed-loop transfer function is\n",
    "\n",
    "$$\n",
    "G_c(s) = \\frac{G_o(s)}{1 + G_o(s)} = \\frac{K}{s^3 + 3s^2 + 2s + K}\n",
    "$$"
   ]
  },
  {
   "cell_type": "markdown",
   "metadata": {},
   "source": [
    "Unfortunately, $G_c(s)$ is a third-order transfer function, therefore we cannot analytically inspect how the poles of $G_c(s)$ change as a function of $K$.\n",
    "\n",
    "Two approaches can be used to solve the exercise:\n",
    "- Using the [Routh stability criterion](https://en.wikipedia.org/wiki/Routh–Hurwitz_stability_criterion#Higher-order_example)\n",
    "- Using the rootlocus\n",
    "\n",
    "Because the former is out of the scope of this course, we will go for the second one. Let's plot the root locus of $G_o(s)$"
   ]
  },
  {
   "cell_type": "code",
   "execution_count": 2,
   "metadata": {},
   "outputs": [],
   "source": [
    "% Check if we are running in Octave or MATLAB\n",
    "if exist('OCTAVE_VERSION', 'builtin')\n",
    "    pkg load control; warning('off', 'all');\n",
    "    if isempty(getenv('BINDER_SERVICE_HOST')); t = 'notebook'; else; t = 'plotly'; end\n",
    "    graphics_toolkit(t);\n",
    "end"
   ]
  },
  {
   "cell_type": "code",
   "execution_count": 3,
   "metadata": {},
   "outputs": [],
   "source": [
    "s = tf('s');\n",
    "Go = 1/(s*(s+1)*(s+2));"
   ]
  },
  {
   "cell_type": "code",
   "execution_count": 11,
   "metadata": {},
   "outputs": [
    {
     "data": {
      "image/png": "[encoded data removed]"
     },
     "execution_count": 11,
     "metadata": {},
     "output_type": "execute_result"
    }
   ],
   "source": [
    "rlocus(Go); hold on; % Plot the root locus\n",
    "\n",
    "% Plot the closed-loop poles for specific values of K\n",
    "K_points = [0.4, 6, 20];\n",
    "for k=K_points\n",
    "    Gok = k * Go;\n",
    "    [num, den] = tfdata(Gok, \"vector\");\n",
    "    poles = roots(num + den);\n",
    "    p = plot(real(poles), imag(poles), 's', 'MarkerSize', 10, 'MarkerFaceColor', 'auto', 'DisplayName', sprintf('K=%.2f', k));\n",
    "    set(p, 'markerfacecolor', get(p, 'color'));\n",
    "end\n",
    "legend('Location', 'northwest'); hold off;"
   ]
  },
  {
   "cell_type": "markdown",
   "metadata": {},
   "source": [
    "Note that:\n",
    "\n",
    "- For $0 < K \\geq 0.4$, the closed-loop are real-valued and negative\n",
    "- For $0.4 < K < 6$ we have 1 real-valued negative pole and two complex-conjugate (dominating) poles with negative real part.\n",
    "- For $K >6$ the two complex-conjugate poles have positive real part, so the closed-loop is unstable.\n",
    "\n",
    "The solution is therefore $0 < K < 6$."
   ]
  },
  {
   "cell_type": "markdown",
   "metadata": {},
   "source": [
    "### Question 2\n",
    "\n",
    "Under the assumption that the closed-loop is stable ($0 < K < 6$), we can apply the Final Value Theorem, where the reference is $R(s) = \\frac{0.1}{s^2}$.\n",
    "\n",
    "Recalling that Laplace transform of the error is $E(s) = R(s) - Y(s) = (1 - G_c(s)) R(s)$,\n",
    "\n",
    "$$\n",
    "\\begin{aligned}\n",
    "\\lim_{t \\to \\infty} e(t) = \\lim_{s \\to 0} s \\left[ 1 - G_c(s)  \\right] \\frac{0.1}{s^2} &= \\lim_{s \\to 0} s \\frac{s^3 + 3 s^2 + 2s }{s^3 + 3 s^2 + 2s + K} \\frac{0.1}{s^2} \\\\\n",
    "&= \\lim_{s \\to 0} \\frac{s^2 + 3 s + 2 }{s^3 + 3 s^2 + 2s + K} 0.1 = \\frac{0.2}{K}\n",
    "\\end{aligned}\n",
    "$$"
   ]
  },
  {
   "cell_type": "markdown",
   "metadata": {},
   "source": [
    "To get the desired error, we impose \n",
    "\n",
    "$$\n",
    "\\frac{0.2}{K} \\leq 0.005 \\quad \\implies \\quad K \\geq 40\n",
    "$$\n",
    "\n",
    "Unfortunately, this error is not achievable because for $K > 6$ the closed-loop is unstable."
   ]
  }
 ],
 "metadata": {
  "kernelspec": {
   "display_name": "MATLAB Kernel",
   "language": "matlab",
   "name": "jupyter_matlab_kernel"
  },
  "language_info": {
   "file_extension": ".m",
   "mimetype": "text/x-matlab",
   "name": "matlab"
  }
 },
 "nbformat": 4,
 "nbformat_minor": 2
}
