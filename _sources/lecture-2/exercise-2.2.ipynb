{
 "cells": [
  {
   "cell_type": "markdown",
   "metadata": {},
   "source": [
    "(ref:lec2:ex2)=\n",
    "# Exercise 2.2\n"
   ]
  },
  {
   "cell_type": "markdown",
   "metadata": {},
   "source": [
    "We want to control the angular position of a DC motor. The transfer function between the applied voltage and the position is\n",
    "\n",
    "$$\n",
    "G(s) = \\frac{10}{s(s+10)}\n",
    "$$\n",
    "\n",
    "We adopt a proportional controller with a low-pass filter. The controller's transfer function is\n",
    "\n",
    "$$\n",
    "F(s) = \\frac{K}{1+sT},\n",
    "$$\n",
    "\n",
    "where $K > 0$ is the proportional gain and $T > 0$ is the time constant of the low-pass filter. The controller is fed with the tracking error, $e(t) = \\theta_{ref}(t) - \\theta(t)$.\n",
    "\n",
    "1. For which values of $K$ is the closed-loop stable?\n",
    "2. What happens if $T$ is very small or very large, respectively?"
   ]
  },
  {
   "cell_type": "markdown",
   "metadata": {},
   "source": [
    "---"
   ]
  },
  {
   "cell_type": "markdown",
   "metadata": {},
   "source": [
    "*Solution to be uploaded*"
   ]
  }
 ],
 "metadata": {
  "language_info": {
   "name": "python"
  }
 },
 "nbformat": 4,
 "nbformat_minor": 2
}
