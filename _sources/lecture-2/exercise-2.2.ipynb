{
 "cells": [
  {
   "cell_type": "markdown",
   "metadata": {},
   "source": [
    "(ref:lec2:ex2)=\n",
    "# Exercise 2.2\n"
   ]
  },
  {
   "cell_type": "markdown",
   "metadata": {},
   "source": [
    "We want to control the angular position of a DC motor. The transfer function between the applied voltage and the position is\n",
    "\n",
    "$$\n",
    "G(s) = \\frac{10}{s(s+10)}\n",
    "$$\n",
    "\n",
    "We adopt a proportional controller:\n",
    "\n",
    "$$\n",
    "F(s) = K\n",
    "$$\n",
    "\n",
    "\n",
    "1. For which values of $K$ is the closed-loop stable?\n",
    "2. If the reference signal is $\\theta_{ref}(t) = R \\cdot \\textrm{step}(t)$, for what values of $K$ the steady-state output error is less than $1\\%$?"
   ]
  },
  {
   "cell_type": "markdown",
   "metadata": {},
   "source": [
    "---"
   ]
  },
  {
   "cell_type": "markdown",
   "metadata": {},
   "source": [
    "## Solution"
   ]
  },
  {
   "cell_type": "markdown",
   "metadata": {},
   "source": [
    "### Question 1"
   ]
  },
  {
   "cell_type": "markdown",
   "metadata": {},
   "source": [
    "We start by computing the closed-loop transfer function:\n",
    "\n",
    "$$\n",
    "G_c(s) = \\frac{K \\cdot G(s)}{1 + K \\cdot G(s)} = \\frac{10 K}{s^2 + 10 s + 10 K}\n",
    "$$\n",
    "\n",
    "Then, similar to {ref}`ref:lec1:ex3`, we analyze how the poles of $G_c(s)$ change as a function of $K$. \n",
    "\n",
    "$$\n",
    "s^2 + 10s +10K = 0\n",
    "$$\n",
    "\n",
    "The discriminant is $\\Delta = 100 - 40 K$.\n",
    "\n",
    "\n",
    "#### Case $\\Delta > 0$\n",
    "If $K \\leq 2.5$, the discriminant is positive ($\\Delta > 0$), which means we have two real solutions\n",
    "\n",
    "$$\n",
    "s = \\frac{-10 \\pm \\sqrt{100 - 40K}}{2} = -5 \\pm \\sqrt{25 - 10K}\n",
    "$$\n",
    "\n",
    "The real part of the poles is strictly negative as long as $\\sqrt{25 - 10K} \\leq 5$, that is, $0 < K \\leq 2.5$."
   ]
  },
  {
   "cell_type": "markdown",
   "metadata": {},
   "source": [
    "#### Case $\\Delta < 0$\n",
    "\n",
    "If $K > 2.5$ the discriminant is negative, hence we have two complex-conjugate solutions\n",
    "\n",
    "$$\n",
    "s = \\frac{-10 \\pm i \\sqrt{\\lvert \\Delta \\lvert}}{2} = -5 \\pm i \\sqrt{\\frac{\\lvert \\Delta \\lvert}{4}}\n",
    "$$"
   ]
  },
  {
   "cell_type": "markdown",
   "metadata": {},
   "source": [
    "The real part is negative and independent of $K$. Therefore, for any $K > 2.5$ the closed-loop is stable."
   ]
  },
  {
   "cell_type": "markdown",
   "metadata": {},
   "source": [
    "#### Solution to question 1\n",
    "\n",
    "Any $K > 0$ makes the closed-loop stable.\n",
    "\n",
    "We can double-check this result looking at the root locus of the system. "
   ]
  },
  {
   "cell_type": "code",
   "execution_count": 1,
   "metadata": {},
   "outputs": [
    {
     "data": {
      "image/png": "[encoded data removed]"
     },
     "execution_count": 1,
     "metadata": {},
     "output_type": "execute_result"
    }
   ],
   "source": [
    "% Check if we are running in Octave or MATLAB\n",
    "if exist('OCTAVE_VERSION', 'builtin')\n",
    "    pkg load control; warning('off', 'all');\n",
    "    if isempty(getenv('BINDER_SERVICE_HOST')); t = 'notebook'; else; t = 'plotly'; end\n",
    "    graphics_toolkit(t);\n",
    "end\n",
    "\n",
    "s = tf('s');\n",
    "G = 10/(s*(s+10));\n",
    "rlocus(G); hold on; "
   ]
  },
  {
   "cell_type": "markdown",
   "metadata": {},
   "source": [
    "As can be seen, the closed-loop poles are always located in the left-hand half-plane."
   ]
  },
  {
   "cell_type": "markdown",
   "metadata": {},
   "source": [
    "### Question 2\n",
    "\n",
    "We now restrict ourselves to the case $K > 0$, where the closed-loop is stable. Thanks to the stability of the closed-loop, we can apply the Final Value Theore (where $\\Theta_{ref}(s) = \\frac{R}{s}$)\n",
    "\n",
    "$$\n",
    "\\lim_{t \\to \\infty} \\theta(t) = \\lim_{s \\to 0} s \\left( G_c(s) \\Theta_{ref}(s) \\right) = \\lim_{s \\to 0} s \\left( \\frac{10 K}{s^2 + 10 s + 10 K} \\frac{R}{s} \\right) = \\frac{10K}{10 K} = R\n",
    "$$\n",
    "\n",
    "The steady-state error is $e(\\infty) = \\theta_{ref}(\\infty) - \\theta(\\infty)  = R - R = 0$ for every value of $K > 0$."
   ]
  }
 ],
 "metadata": {
  "kernelspec": {
   "display_name": "MATLAB Kernel",
   "language": "matlab",
   "name": "jupyter_matlab_kernel"
  },
  "language_info": {
   "file_extension": ".m",
   "mimetype": "text/x-matlab",
   "name": "matlab"
  }
 },
 "nbformat": 4,
 "nbformat_minor": 2
}
